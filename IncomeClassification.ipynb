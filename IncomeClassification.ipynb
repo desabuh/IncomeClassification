{
  "nbformat": 4,
  "nbformat_minor": 0,
  "metadata": {
    "colab": {
      "name": "IncomeClassification.ipynb",
      "provenance": [],
      "collapsed_sections": [],
      "mount_file_id": "1HAXRnkMf9VhsD9LSXoJlHKmUHWSUFePG",
      "authorship_tag": "ABX9TyO6FS1B3vQi3z0VdiMT99rC",
      "include_colab_link": true
    },
    "kernelspec": {
      "display_name": "Python 3",
      "name": "python3"
    },
    "language_info": {
      "name": "python"
    }
  },
  "cells": [
    {
      "cell_type": "markdown",
      "metadata": {
        "id": "view-in-github",
        "colab_type": "text"
      },
      "source": [
        "<a href=\"https://colab.research.google.com/github/desabuh/IncomeClassification/blob/master/IncomeClassification.ipynb\" target=\"_parent\"><img src=\"https://colab.research.google.com/assets/colab-badge.svg\" alt=\"Open In Colab\"/></a>"
      ]
    },
    {
      "cell_type": "code",
      "metadata": {
        "id": "cXYDkCEIUyme"
      },
      "source": [
        "import numpy as np\n",
        "import pandas as pd\n",
        "import matplotlib.pyplot as plt\n",
        "import seaborn as sns\n",
        "from scipy.stats import norm,entropy\n",
        "%matplotlib inline"
      ],
      "execution_count": 44,
      "outputs": []
    },
    {
      "cell_type": "markdown",
      "metadata": {
        "id": "hN46eYmZQTkw"
      },
      "source": [
        "Il dataset in questione è stato estratto da Ron Kohavi nel 1996 dall'ufficio di censimento degli stati uniti d'america (in particolare a partire da una rilevazione del 1994).\n",
        "Contiene circa 30.000 record rappresentanti determinate unità di individui, ognuna di esse è etichettata con un valore di income binario (<=50K o >50K).\n",
        "L'obbiettivo di questa analisi è estrarre informazioni statistiche interessanti tramite una prima fase di EDA ed addestrare un modello di classificazione binaria per estrarne caratteristiche utili."
      ]
    },
    {
      "cell_type": "markdown",
      "metadata": {
        "id": "TCprMEFgSRBY"
      },
      "source": [
        "FONTI E RICONOSCIMENTI\n",
        "\n",
        "1.   http://robotics.stanford.edu/~ronnyk/nbtree.pdf\n",
        "2.   https://www.census.gov/en.html\n",
        "3.   https://arxiv.org/pdf/1106.1813.pdf\n",
        "4.   https://seaborn.pydata.org/\n",
        "5.   https://www.researchgate.net/publication/328315720_Cross-Validation_for_Imbalanced_Datasets_Avoiding_Overoptimistic_and_Overfitting_Approaches\n",
        "6. https://xgboost.readthedocs.io/en/latest/\n",
        "7. https://github.com/slundberg/shap\n",
        "\n",
        "\n"
      ]
    },
    {
      "cell_type": "markdown",
      "metadata": {
        "id": "W9I2Z3FA1o3Z"
      },
      "source": [
        "#Caricamento del dataset e pre-analisi"
      ]
    },
    {
      "cell_type": "markdown",
      "metadata": {
        "id": "LhXmy5qoc-uk"
      },
      "source": [
        "Il dataset è disponibile su https://www.kaggle.com/uciml/adult-census-income"
      ]
    },
    {
      "cell_type": "code",
      "metadata": {
        "id": "Q_wGDnR0VgMb"
      },
      "source": [
        "path = \"/adult_income/adult.csv\"\n",
        "data = pd.read_csv(path, nrows=10);"
      ],
      "execution_count": 48,
      "outputs": []
    },
    {
      "cell_type": "markdown",
      "metadata": {
        "id": "sv8CcfXeXZWJ"
      },
      "source": [
        "Prima di caricare l'intero dataframe risulta utile caricare solo un numero limitato di record per contrallare i dati"
      ]
    },
    {
      "cell_type": "code",
      "metadata": {
        "colab": {
          "base_uri": "https://localhost:8080/",
          "height": 290
        },
        "id": "iOII_JZZVjB6",
        "outputId": "16a3c310-05ba-460a-fea7-fa202256833b"
      },
      "source": [
        "data.head()"
      ],
      "execution_count": 49,
      "outputs": [
        {
          "output_type": "execute_result",
          "data": {
            "text/html": [
              "<div>\n",
              "<style scoped>\n",
              "    .dataframe tbody tr th:only-of-type {\n",
              "        vertical-align: middle;\n",
              "    }\n",
              "\n",
              "    .dataframe tbody tr th {\n",
              "        vertical-align: top;\n",
              "    }\n",
              "\n",
              "    .dataframe thead th {\n",
              "        text-align: right;\n",
              "    }\n",
              "</style>\n",
              "<table border=\"1\" class=\"dataframe\">\n",
              "  <thead>\n",
              "    <tr style=\"text-align: right;\">\n",
              "      <th></th>\n",
              "      <th>age</th>\n",
              "      <th>workclass</th>\n",
              "      <th>fnlwgt</th>\n",
              "      <th>education</th>\n",
              "      <th>education.num</th>\n",
              "      <th>marital.status</th>\n",
              "      <th>occupation</th>\n",
              "      <th>relationship</th>\n",
              "      <th>race</th>\n",
              "      <th>sex</th>\n",
              "      <th>capital.gain</th>\n",
              "      <th>capital.loss</th>\n",
              "      <th>hours.per.week</th>\n",
              "      <th>native.country</th>\n",
              "      <th>income</th>\n",
              "    </tr>\n",
              "  </thead>\n",
              "  <tbody>\n",
              "    <tr>\n",
              "      <th>0</th>\n",
              "      <td>90</td>\n",
              "      <td>?</td>\n",
              "      <td>77053</td>\n",
              "      <td>HS-grad</td>\n",
              "      <td>9</td>\n",
              "      <td>Widowed</td>\n",
              "      <td>?</td>\n",
              "      <td>Not-in-family</td>\n",
              "      <td>White</td>\n",
              "      <td>Female</td>\n",
              "      <td>0</td>\n",
              "      <td>4356</td>\n",
              "      <td>40</td>\n",
              "      <td>United-States</td>\n",
              "      <td>&lt;=50K</td>\n",
              "    </tr>\n",
              "    <tr>\n",
              "      <th>1</th>\n",
              "      <td>82</td>\n",
              "      <td>Private</td>\n",
              "      <td>132870</td>\n",
              "      <td>HS-grad</td>\n",
              "      <td>9</td>\n",
              "      <td>Widowed</td>\n",
              "      <td>Exec-managerial</td>\n",
              "      <td>Not-in-family</td>\n",
              "      <td>White</td>\n",
              "      <td>Female</td>\n",
              "      <td>0</td>\n",
              "      <td>4356</td>\n",
              "      <td>18</td>\n",
              "      <td>United-States</td>\n",
              "      <td>&lt;=50K</td>\n",
              "    </tr>\n",
              "    <tr>\n",
              "      <th>2</th>\n",
              "      <td>66</td>\n",
              "      <td>?</td>\n",
              "      <td>186061</td>\n",
              "      <td>Some-college</td>\n",
              "      <td>10</td>\n",
              "      <td>Widowed</td>\n",
              "      <td>?</td>\n",
              "      <td>Unmarried</td>\n",
              "      <td>Black</td>\n",
              "      <td>Female</td>\n",
              "      <td>0</td>\n",
              "      <td>4356</td>\n",
              "      <td>40</td>\n",
              "      <td>United-States</td>\n",
              "      <td>&lt;=50K</td>\n",
              "    </tr>\n",
              "    <tr>\n",
              "      <th>3</th>\n",
              "      <td>54</td>\n",
              "      <td>Private</td>\n",
              "      <td>140359</td>\n",
              "      <td>7th-8th</td>\n",
              "      <td>4</td>\n",
              "      <td>Divorced</td>\n",
              "      <td>Machine-op-inspct</td>\n",
              "      <td>Unmarried</td>\n",
              "      <td>White</td>\n",
              "      <td>Female</td>\n",
              "      <td>0</td>\n",
              "      <td>3900</td>\n",
              "      <td>40</td>\n",
              "      <td>United-States</td>\n",
              "      <td>&lt;=50K</td>\n",
              "    </tr>\n",
              "    <tr>\n",
              "      <th>4</th>\n",
              "      <td>41</td>\n",
              "      <td>Private</td>\n",
              "      <td>264663</td>\n",
              "      <td>Some-college</td>\n",
              "      <td>10</td>\n",
              "      <td>Separated</td>\n",
              "      <td>Prof-specialty</td>\n",
              "      <td>Own-child</td>\n",
              "      <td>White</td>\n",
              "      <td>Female</td>\n",
              "      <td>0</td>\n",
              "      <td>3900</td>\n",
              "      <td>40</td>\n",
              "      <td>United-States</td>\n",
              "      <td>&lt;=50K</td>\n",
              "    </tr>\n",
              "  </tbody>\n",
              "</table>\n",
              "</div>"
            ],
            "text/plain": [
              "   age workclass  fnlwgt  ... hours.per.week  native.country income\n",
              "0   90         ?   77053  ...             40   United-States  <=50K\n",
              "1   82   Private  132870  ...             18   United-States  <=50K\n",
              "2   66         ?  186061  ...             40   United-States  <=50K\n",
              "3   54   Private  140359  ...             40   United-States  <=50K\n",
              "4   41   Private  264663  ...             40   United-States  <=50K\n",
              "\n",
              "[5 rows x 15 columns]"
            ]
          },
          "metadata": {
            "tags": []
          },
          "execution_count": 49
        }
      ]
    },
    {
      "cell_type": "markdown",
      "metadata": {
        "id": "lLpFFxf9rH3x"
      },
      "source": [
        "Le feature attuali sono:\n",
        "\n",
        "\n",
        "*   age -> 17-90 ages range of values\n",
        "*   **workclass ->** categories of workers(government, self-employed...)\n",
        "*   **fnlwgt ->** final weight, it rappresent the number of people unit for a single row\n",
        "*   **education ->** level of education achieved for the unit(it will be used only as a dictionary for **education.num**)\n",
        "*   **education.num ->** Label encoded education (the various type of education can be treated like ordinal values). It will be used instead of **education** \n",
        "*   **marital.status ->** marital status for each unit of people\n",
        "*   **occupation ->** specific working role\n",
        "*   **relationship ->** relation status\n",
        "*   **ethnicity(race) ->** ethnicity of the individuals\n",
        "*   **sex ->** sex of the individual\n",
        "*   **capital gain/loss ->** only applied on financial instrument buyers, it's a small percentage of people out of the total.\n",
        "*   **hours.per.week ->** number of hours of work per week\n",
        "*   **native.country ->** contry of origin\n",
        "*   **income ->** target variable, high (>50K) or low (<=50K) income for unit\n",
        "\n"
      ]
    },
    {
      "cell_type": "code",
      "metadata": {
        "colab": {
          "base_uri": "https://localhost:8080/"
        },
        "id": "jGlyWifnXKDx",
        "outputId": "2a08ee4f-a2c7-4ba9-d311-23127a3a59d9"
      },
      "source": [
        "data.shape"
      ],
      "execution_count": 50,
      "outputs": [
        {
          "output_type": "execute_result",
          "data": {
            "text/plain": [
              "(10, 15)"
            ]
          },
          "metadata": {
            "tags": []
          },
          "execution_count": 50
        }
      ]
    },
    {
      "cell_type": "code",
      "metadata": {
        "id": "WsbKuCOBXrcy"
      },
      "source": [
        "data.drop(columns = \"income\", inplace=True)\n",
        "\n",
        "qualitative = [cl for cl in data.columns if data[cl].dtype == \"object\" or data[cl].dtype.name == \"category\"]\n",
        "quantitative = [cl for cl in data.columns if data[cl].dtype != \"object\" and data[cl].dtype.name != \"category\"]"
      ],
      "execution_count": 51,
      "outputs": []
    },
    {
      "cell_type": "code",
      "metadata": {
        "colab": {
          "base_uri": "https://localhost:8080/"
        },
        "id": "tBvOQW4bYVbh",
        "outputId": "8d27c3ac-a05d-479a-f495-6e71b5220853"
      },
      "source": [
        "qualitative"
      ],
      "execution_count": 52,
      "outputs": [
        {
          "output_type": "execute_result",
          "data": {
            "text/plain": [
              "['workclass',\n",
              " 'education',\n",
              " 'marital.status',\n",
              " 'occupation',\n",
              " 'relationship',\n",
              " 'race',\n",
              " 'sex',\n",
              " 'native.country']"
            ]
          },
          "metadata": {
            "tags": []
          },
          "execution_count": 52
        }
      ]
    },
    {
      "cell_type": "code",
      "metadata": {
        "colab": {
          "base_uri": "https://localhost:8080/"
        },
        "id": "N5VL-lNGYgeC",
        "outputId": "c0b2c00e-ca4a-4a25-ffff-edf61a830d4a"
      },
      "source": [
        "quantitative"
      ],
      "execution_count": 53,
      "outputs": [
        {
          "output_type": "execute_result",
          "data": {
            "text/plain": [
              "['age',\n",
              " 'fnlwgt',\n",
              " 'education.num',\n",
              " 'capital.gain',\n",
              " 'capital.loss',\n",
              " 'hours.per.week']"
            ]
          },
          "metadata": {
            "tags": []
          },
          "execution_count": 53
        }
      ]
    },
    {
      "cell_type": "markdown",
      "metadata": {
        "id": "43D8cZ_oY6lD"
      },
      "source": [
        "Si ricarica il dataset per risparmiare memoria nel memorizzare le variabili categoriche come category invece che object"
      ]
    },
    {
      "cell_type": "code",
      "metadata": {
        "id": "upcA413BYoO7"
      },
      "source": [
        "data = pd.read_csv(path, dtype={c: \"category\" for c in qualitative})"
      ],
      "execution_count": 54,
      "outputs": []
    },
    {
      "cell_type": "markdown",
      "metadata": {
        "id": "CXTnT2ynZ8W1"
      },
      "source": [
        "In questo caso sostituire le variabili object ha portato ad una dimensione\n",
        "risultante del dataframe di 3.7Mb (contro 20Mb di occupazione)"
      ]
    },
    {
      "cell_type": "code",
      "metadata": {
        "colab": {
          "base_uri": "https://localhost:8080/"
        },
        "id": "10ZEMCn6ZQ-n",
        "outputId": "1e5cd0ca-37c6-48e4-9597-f0ad2e843a98"
      },
      "source": [
        "data.info(memory_usage=\"deep\")"
      ],
      "execution_count": 55,
      "outputs": [
        {
          "output_type": "stream",
          "text": [
            "<class 'pandas.core.frame.DataFrame'>\n",
            "RangeIndex: 32561 entries, 0 to 32560\n",
            "Data columns (total 15 columns):\n",
            " #   Column          Non-Null Count  Dtype   \n",
            "---  ------          --------------  -----   \n",
            " 0   age             32561 non-null  int64   \n",
            " 1   workclass       32561 non-null  category\n",
            " 2   fnlwgt          32561 non-null  int64   \n",
            " 3   education       32561 non-null  category\n",
            " 4   education.num   32561 non-null  int64   \n",
            " 5   marital.status  32561 non-null  category\n",
            " 6   occupation      32561 non-null  category\n",
            " 7   relationship    32561 non-null  category\n",
            " 8   race            32561 non-null  category\n",
            " 9   sex             32561 non-null  category\n",
            " 10  capital.gain    32561 non-null  int64   \n",
            " 11  capital.loss    32561 non-null  int64   \n",
            " 12  hours.per.week  32561 non-null  int64   \n",
            " 13  native.country  32561 non-null  category\n",
            " 14  income          32561 non-null  object  \n",
            "dtypes: category(8), int64(6), object(1)\n",
            "memory usage: 3.7 MB\n"
          ],
          "name": "stdout"
        }
      ]
    },
    {
      "cell_type": "markdown",
      "metadata": {
        "id": "Noys65_M1TJY"
      },
      "source": [
        "#EDA"
      ]
    },
    {
      "cell_type": "code",
      "metadata": {
        "colab": {
          "base_uri": "https://localhost:8080/",
          "height": 295
        },
        "id": "owh5CDk0YLqk",
        "outputId": "262e56e9-cc03-4cc5-a675-3c8635e9ab0e"
      },
      "source": [
        "data.describe()"
      ],
      "execution_count": 56,
      "outputs": [
        {
          "output_type": "execute_result",
          "data": {
            "text/html": [
              "<div>\n",
              "<style scoped>\n",
              "    .dataframe tbody tr th:only-of-type {\n",
              "        vertical-align: middle;\n",
              "    }\n",
              "\n",
              "    .dataframe tbody tr th {\n",
              "        vertical-align: top;\n",
              "    }\n",
              "\n",
              "    .dataframe thead th {\n",
              "        text-align: right;\n",
              "    }\n",
              "</style>\n",
              "<table border=\"1\" class=\"dataframe\">\n",
              "  <thead>\n",
              "    <tr style=\"text-align: right;\">\n",
              "      <th></th>\n",
              "      <th>age</th>\n",
              "      <th>fnlwgt</th>\n",
              "      <th>education.num</th>\n",
              "      <th>capital.gain</th>\n",
              "      <th>capital.loss</th>\n",
              "      <th>hours.per.week</th>\n",
              "    </tr>\n",
              "  </thead>\n",
              "  <tbody>\n",
              "    <tr>\n",
              "      <th>count</th>\n",
              "      <td>32561.000000</td>\n",
              "      <td>3.256100e+04</td>\n",
              "      <td>32561.000000</td>\n",
              "      <td>32561.000000</td>\n",
              "      <td>32561.000000</td>\n",
              "      <td>32561.000000</td>\n",
              "    </tr>\n",
              "    <tr>\n",
              "      <th>mean</th>\n",
              "      <td>38.581647</td>\n",
              "      <td>1.897784e+05</td>\n",
              "      <td>10.080679</td>\n",
              "      <td>1077.648844</td>\n",
              "      <td>87.303830</td>\n",
              "      <td>40.437456</td>\n",
              "    </tr>\n",
              "    <tr>\n",
              "      <th>std</th>\n",
              "      <td>13.640433</td>\n",
              "      <td>1.055500e+05</td>\n",
              "      <td>2.572720</td>\n",
              "      <td>7385.292085</td>\n",
              "      <td>402.960219</td>\n",
              "      <td>12.347429</td>\n",
              "    </tr>\n",
              "    <tr>\n",
              "      <th>min</th>\n",
              "      <td>17.000000</td>\n",
              "      <td>1.228500e+04</td>\n",
              "      <td>1.000000</td>\n",
              "      <td>0.000000</td>\n",
              "      <td>0.000000</td>\n",
              "      <td>1.000000</td>\n",
              "    </tr>\n",
              "    <tr>\n",
              "      <th>25%</th>\n",
              "      <td>28.000000</td>\n",
              "      <td>1.178270e+05</td>\n",
              "      <td>9.000000</td>\n",
              "      <td>0.000000</td>\n",
              "      <td>0.000000</td>\n",
              "      <td>40.000000</td>\n",
              "    </tr>\n",
              "    <tr>\n",
              "      <th>50%</th>\n",
              "      <td>37.000000</td>\n",
              "      <td>1.783560e+05</td>\n",
              "      <td>10.000000</td>\n",
              "      <td>0.000000</td>\n",
              "      <td>0.000000</td>\n",
              "      <td>40.000000</td>\n",
              "    </tr>\n",
              "    <tr>\n",
              "      <th>75%</th>\n",
              "      <td>48.000000</td>\n",
              "      <td>2.370510e+05</td>\n",
              "      <td>12.000000</td>\n",
              "      <td>0.000000</td>\n",
              "      <td>0.000000</td>\n",
              "      <td>45.000000</td>\n",
              "    </tr>\n",
              "    <tr>\n",
              "      <th>max</th>\n",
              "      <td>90.000000</td>\n",
              "      <td>1.484705e+06</td>\n",
              "      <td>16.000000</td>\n",
              "      <td>99999.000000</td>\n",
              "      <td>4356.000000</td>\n",
              "      <td>99.000000</td>\n",
              "    </tr>\n",
              "  </tbody>\n",
              "</table>\n",
              "</div>"
            ],
            "text/plain": [
              "                age        fnlwgt  ...  capital.loss  hours.per.week\n",
              "count  32561.000000  3.256100e+04  ...  32561.000000    32561.000000\n",
              "mean      38.581647  1.897784e+05  ...     87.303830       40.437456\n",
              "std       13.640433  1.055500e+05  ...    402.960219       12.347429\n",
              "min       17.000000  1.228500e+04  ...      0.000000        1.000000\n",
              "25%       28.000000  1.178270e+05  ...      0.000000       40.000000\n",
              "50%       37.000000  1.783560e+05  ...      0.000000       40.000000\n",
              "75%       48.000000  2.370510e+05  ...      0.000000       45.000000\n",
              "max       90.000000  1.484705e+06  ...   4356.000000       99.000000\n",
              "\n",
              "[8 rows x 6 columns]"
            ]
          },
          "metadata": {
            "tags": []
          },
          "execution_count": 56
        }
      ]
    },
    {
      "cell_type": "markdown",
      "metadata": {
        "id": "smM-UwTIyE4A"
      },
      "source": [
        "Nel dataset i valori nulli sono marcati con `?` pertanto prima di valutarli conviene trasformarli in `np.NaN`.\n",
        "\n",
        "\n",
        "\n"
      ]
    },
    {
      "cell_type": "code",
      "metadata": {
        "id": "Sj0DyC1tVsfC"
      },
      "source": [
        "data = data.replace(\"?\", np.NaN)"
      ],
      "execution_count": 57,
      "outputs": []
    },
    {
      "cell_type": "markdown",
      "metadata": {
        "id": "q1Q8HtSpzHqg"
      },
      "source": [
        "Il numero di valori mancanti risulta abbastanza trascurabile (una media di 1300 row su 32561 e per sole 3 feature su 14)"
      ]
    },
    {
      "cell_type": "code",
      "metadata": {
        "colab": {
          "base_uri": "https://localhost:8080/",
          "height": 332
        },
        "id": "6G2dt-K0VwMi",
        "outputId": "a8c6ec75-dedb-4e4d-a8ab-a140b7716fca"
      },
      "source": [
        "data.isnull().sum().plot.bar();"
      ],
      "execution_count": 58,
      "outputs": [
        {
          "output_type": "display_data",
          "data": {
            "image/png": "[encoded data removed]",
            "text/plain": [
              "<Figure size 432x288 with 1 Axes>"
            ]
          },
          "metadata": {
            "tags": [],
            "needs_background": "light"
          }
        }
      ]
    },
    {
      "cell_type": "markdown",
      "metadata": {
        "id": "A7lYnua5zgfP"
      },
      "source": [
        "Si può notare invece uno sbilanciamento significativo relativo alla cardinalità delle 2 fasce di guadagno (tendenzialmente gli alti redditi sono meno frequenti)"
      ]
    },
    {
      "cell_type": "code",
      "metadata": {
        "id": "sRihSClNoNsS"
      },
      "source": [
        "data[\"income\"].replace({\"<=50K\": \"Low_income\", \">50K\": \"High_income\"}, inplace=True)"
      ],
      "execution_count": 59,
      "outputs": []
    },
    {
      "cell_type": "code",
      "metadata": {
        "colab": {
          "base_uri": "https://localhost:8080/",
          "height": 248
        },
        "id": "e4901eb9pkmp",
        "outputId": "cce40d80-f6a7-4a59-aa93-4f4d49b6d6f5"
      },
      "source": [
        "data[\"income\"].value_counts().plot.pie();"
      ],
      "execution_count": 60,
      "outputs": [
        {
          "output_type": "display_data",
          "data": {
            "image/png": "[encoded data removed]",
            "text/plain": [
              "<Figure size 432x288 with 1 Axes>"
            ]
          },
          "metadata": {
            "tags": []
          }
        }
      ]
    },
    {
      "cell_type": "code",
      "metadata": {
        "colab": {
          "base_uri": "https://localhost:8080/"
        },
        "id": "KJT09_YvWrmb",
        "outputId": "6f660303-949b-4022-e008-2dfbe1bcd7e1"
      },
      "source": [
        "data[\"income\"].value_counts()"
      ],
      "execution_count": 61,
      "outputs": [
        {
          "output_type": "execute_result",
          "data": {
            "text/plain": [
              "Low_income     24720\n",
              "High_income     7841\n",
              "Name: income, dtype: int64"
            ]
          },
          "metadata": {
            "tags": []
          },
          "execution_count": 61
        }
      ]
    },
    {
      "cell_type": "markdown",
      "metadata": {
        "id": "aRfelG8MzzVi"
      },
      "source": [
        "E' necessario contestualizzare la rilevazione considerando il rateo di dati per ogni paese"
      ]
    },
    {
      "cell_type": "code",
      "metadata": {
        "colab": {
          "base_uri": "https://localhost:8080/",
          "height": 649
        },
        "id": "r8QMzHK5z7QF",
        "outputId": "a7b98224-d9c8-419f-b241-0ae400eadeb7"
      },
      "source": [
        "data[\"native.country\"].value_counts().plot(kind = \"pie\", labels = [''] * data[\"native.country\"].value_counts().size, figsize = (12,7));\n",
        "plt.legend(labels = list(zip(data[\"native.country\"].value_counts().index, data[\"native.country\"].value_counts())), loc = \"upper left\", bbox_to_anchor = (-1, 1.3));"
      ],
      "execution_count": 62,
      "outputs": [
        {
          "output_type": "display_data",
          "data": {
            "image/png": "[encoded data removed]",
            "text/plain": [
              "<Figure size 864x504 with 1 Axes>"
            ]
          },
          "metadata": {
            "tags": []
          }
        }
      ]
    },
    {
      "cell_type": "markdown",
      "metadata": {
        "id": "2I0l_G5B81Jl"
      },
      "source": [
        "Nonostante sia difficile interpretare direttamente il rateo di origini nazionali minori con un plot chart, si può individuare chiaramente come il numero di rilevazioni su unità degli USA sia estremamente preponderante (corrispondente solo essa ad oltre il 90% dei sample a disposizione). Questo è prevedibile in quanto la rilevazione è stata intrapesa dall'ufficio di censimento degli USA.\n",
        "Le altre 2 fasce maggiori per frequenza sono le nazionalità Messicane e Filippine. "
      ]
    },
    {
      "cell_type": "markdown",
      "metadata": {
        "id": "7L2bJKHlQTDl"
      },
      "source": [
        "------------------------------------------------------"
      ]
    },
    {
      "cell_type": "markdown",
      "metadata": {
        "id": "GA8bYb-ya3ok"
      },
      "source": [
        "Si può notare dalla distribuzione delle feature quantitative diverse caratteristiche:\n",
        "\n",
        "\n",
        "*   i valori di capital gain/loss sono attivi solo per una piccolissima porzione di unità\n",
        "*   i dati si riferiscono perlopiù ad individui con circa 40 ore settimali( quindi ci si riferisce principalmente a lavoratori a tempo pieno).\n",
        "*   le età dei campioni sembrano distribuite in maniera perlopiù omogenea, prediligendo valori di età fra 35-45 anni\n",
        "\n",
        "\n",
        "\n",
        "\n",
        "\n"
      ]
    },
    {
      "cell_type": "code",
      "metadata": {
        "colab": {
          "base_uri": "https://localhost:8080/",
          "height": 716
        },
        "id": "qYwuGFU1aRw9",
        "outputId": "4fa66855-3f99-4ca5-d51a-214362be116c"
      },
      "source": [
        "data[quantitative].hist(figsize = (12,12));"
      ],
      "execution_count": 63,
      "outputs": [
        {
          "output_type": "display_data",
          "data": {
            "image/png": "[encoded data removed]",
            "text/plain": [
              "<Figure size 864x864 with 6 Axes>"
            ]
          },
          "metadata": {
            "tags": [],
            "needs_background": "light"
          }
        }
      ]
    },
    {
      "cell_type": "markdown",
      "metadata": {
        "id": "YyfAi34ir7_R"
      },
      "source": [
        "Nel caso delle variabili categoriche può essere utile individuare il numero di valori assunti da ognuna per semplificare la fase successiva di encoding\n",
        "\n",
        "Per scegliere il miglior encoding risulta utile individuare il numero di valori per colonna"
      ]
    },
    {
      "cell_type": "code",
      "metadata": {
        "id": "ddIXuzWMr40j"
      },
      "source": [
        "cat_var_sizes = data[qualitative].apply(lambda x: x.cat.categories.size)"
      ],
      "execution_count": 64,
      "outputs": []
    },
    {
      "cell_type": "code",
      "metadata": {
        "colab": {
          "base_uri": "https://localhost:8080/",
          "height": 479
        },
        "id": "WidXvwCRsO-D",
        "outputId": "1bbce810-f099-425b-ce39-3e0254ef2269"
      },
      "source": [
        "plt.bar(data[qualitative].columns, cat_var_sizes.values)\n",
        "plt.xticks(rotation=90);\n",
        "print(cat_var_sizes)"
      ],
      "execution_count": 65,
      "outputs": [
        {
          "output_type": "stream",
          "text": [
            "workclass          8\n",
            "education         16\n",
            "marital.status     7\n",
            "occupation        14\n",
            "relationship       6\n",
            "race               5\n",
            "sex                2\n",
            "native.country    41\n",
            "dtype: int64\n"
          ],
          "name": "stdout"
        },
        {
          "output_type": "display_data",
          "data": {
            "image/png": "[encoded data removed]",
            "text/plain": [
              "<Figure size 432x288 with 1 Axes>"
            ]
          },
          "metadata": {
            "tags": [],
            "needs_background": "light"
          }
        }
      ]
    },
    {
      "cell_type": "markdown",
      "metadata": {
        "id": "-dqhQ7PdZYwR"
      },
      "source": [
        "In questo caso l'idea è quella di utilizzare il target encoding per le variabili ad alta cardinalità(native.country) in quanto è un encoding che rende meglio con grandi quantità di valori associati; per i rimanenti invece si può utilizzare il one-hot encoding. In questo caso l'unica eccezione è education, la quale, essendo l'unica variabile categorica ordinale può essere trattata con label encoding(si utilizza la colonna già esistente education.num)"
      ]
    },
    {
      "cell_type": "code",
      "metadata": {
        "id": "Tm5mJqw-3Ibz"
      },
      "source": [
        "education_dict = dict(zip(data[\"education.num\"], data[\"education\"]))\n",
        "qualitative.remove(\"education\")\n",
        "data.drop(columns=\"education\", inplace=True)"
      ],
      "execution_count": 66,
      "outputs": []
    },
    {
      "cell_type": "code",
      "metadata": {
        "id": "lTQaCOxg1aaf"
      },
      "source": [
        "high_card_cat = data[qualitative].loc[:,(cat_var_sizes > 20)].columns\n",
        "low_card_cat = data[qualitative].loc[:,(cat_var_sizes <= 20)].columns"
      ],
      "execution_count": 67,
      "outputs": []
    },
    {
      "cell_type": "code",
      "metadata": {
        "id": "v1RE0Uq483Hk"
      },
      "source": [
        "data[\"native.country\"] = data[\"native.country\"].map(\n",
        "  data[[\"native.country\",\"income\"]].replace({\"Low_income\": 0, \"High_income\": 1}).groupby(\"native.country\")[\"income\"].mean()\n",
        ")"
      ],
      "execution_count": 68,
      "outputs": []
    },
    {
      "cell_type": "markdown",
      "metadata": {
        "id": "9YevkGSFs_Kn"
      },
      "source": [
        "A questo punto può risultare utile individuare il grado di correlazione lineare tra feature numeriche\n"
      ]
    },
    {
      "cell_type": "code",
      "metadata": {
        "colab": {
          "base_uri": "https://localhost:8080/",
          "height": 336
        },
        "id": "k7BZe19CtHGA",
        "outputId": "0722f265-1bc0-4cb9-b714-bd1596e97251"
      },
      "source": [
        "data.replace({\"High_income\" : 1, \"Low_income\" : 0}, inplace=True)\n",
        "sns.heatmap(data.corr(), annot = True);"
      ],
      "execution_count": 69,
      "outputs": [
        {
          "output_type": "display_data",
          "data": {
            "image/png": "[encoded data removed]",
            "text/plain": [
              "<Figure size 432x288 with 2 Axes>"
            ]
          },
          "metadata": {
            "tags": [],
            "needs_background": "light"
          }
        }
      ]
    },
    {
      "cell_type": "markdown",
      "metadata": {
        "id": "L5_NdoCutv5A"
      },
      "source": [
        "Fortunatamente non ci sono relazioni di codipendenza elevate tra le feature.\n",
        "Si può notare inoltre che la feature fnlwgt risulta essere estremamente poco correlata con il valore di income. Una possibile motivazione potrebbe essere che, essendo questa un semplice indicatore del numero di individui per unità(row) tende a risultare un metadato trascurabile nella predizione finale."
      ]
    },
    {
      "cell_type": "markdown",
      "metadata": {
        "id": "817RbKUKxpAo"
      },
      "source": [
        "Una feature con un certo grado di correlazione, è il livello di educazione(in questo caso nonostante i livelli di istruzione non rappresentino una feature continua, si è scelto di rappresentarla ugualmente con un secondo grafico a distribuzione, per individuare meglio la variazione progressiva dell'income al variare del grado di istruzione, utilizzando anche una kde per aumentare la comprensibilità)"
      ]
    },
    {
      "cell_type": "code",
      "metadata": {
        "colab": {
          "base_uri": "https://localhost:8080/",
          "height": 431
        },
        "id": "g0KGAx3WwVXx",
        "outputId": "37b5f60f-81c7-434c-9396-e3c2f5608943"
      },
      "source": [
        "fig, axes = plt.subplots(1, 2, figsize = (12,6))\n",
        "\n",
        "fig.suptitle(\"Education to income\")\n",
        "\n",
        "axes[1].set(xlim = (1,17))\n",
        "axes[0].set(xlim = (1,17))\n",
        "\n",
        "axes[0].set_xticks(np.arange(1,17))\n",
        "axes[1].set_xticks(np.arange(1,17))\n",
        "\n",
        "\n",
        "sns.histplot(x = \"education.num\", hue = \"income\", data = data, ax = axes[0], bins = 16, binrange=(1,17))\n",
        "\n",
        "#o alternativamente\n",
        "#data.pivot(columns = \"income\")[\"education.num\"].plot.hist(bins=16, stacked=True, ax = axes[0]);\n",
        "\n",
        "sns.kdeplot(x = \"education.num\", hue = \"income\", data = data, ax = axes[1])\n",
        "\n",
        "plt.show()"
      ],
      "execution_count": 70,
      "outputs": [
        {
          "output_type": "display_data",
          "data": {
            "image/png": "[encoded data removed]",
            "text/plain": [
              "<Figure size 864x432 with 2 Axes>"
            ]
          },
          "metadata": {
            "tags": [],
            "needs_background": "light"
          }
        }
      ]
    },
    {
      "cell_type": "code",
      "metadata": {
        "colab": {
          "base_uri": "https://localhost:8080/"
        },
        "id": "qQ1f-4X9xMh8",
        "outputId": "f78684c9-c131-4f2a-9ee0-013ac18ac79c"
      },
      "source": [
        "print([education_dict[x] for x in range(14,17)])\n",
        "print([education_dict[x] for x in range(1,9)])"
      ],
      "execution_count": 71,
      "outputs": [
        {
          "output_type": "stream",
          "text": [
            "['Masters', 'Prof-school', 'Doctorate']\n",
            "['Preschool', '1st-4th', '5th-6th', '7th-8th', '9th', '10th', '11th', '12th']\n"
          ],
          "name": "stdout"
        }
      ]
    },
    {
      "cell_type": "markdown",
      "metadata": {
        "id": "9ptzgb7PUjj2"
      },
      "source": [
        "Si può notare come i bassi redditi abbiano una certa relazione con il grado di istruzione, in particolare:\n",
        "\n",
        "\n",
        "*   Per livelli di istruzione sotto la scuola superiore (< 12th grade) il numero di alti redditi è estremamente basso \n",
        "*   Per livelli di istruzione sopra quello universitario (master, doctorate...) risultano invece molto più diffusi\n",
        "\n"
      ]
    },
    {
      "cell_type": "markdown",
      "metadata": {
        "id": "8jYbBo362Evl"
      },
      "source": [
        "Si osserva di seguito eventuali relazioni importanti tra la classe lavorativa dell'individuo e il numero di ore settimanali"
      ]
    },
    {
      "cell_type": "code",
      "metadata": {
        "colab": {
          "base_uri": "https://localhost:8080/",
          "height": 537
        },
        "id": "21WQytb01t77",
        "outputId": "17852cd8-f46c-4df5-cf2c-9bf162d3989c"
      },
      "source": [
        "data.pivot(columns = \"workclass\")[\"hours.per.week\"].iloc[:,1:].plot(kind = \"box\", showmeans = True, figsize = (12,8), grid =True, colormap = \"jet\");"
      ],
      "execution_count": 72,
      "outputs": [
        {
          "output_type": "stream",
          "text": [
            "/usr/local/lib/python3.7/dist-packages/numpy/core/_asarray.py:83: VisibleDeprecationWarning: Creating an ndarray from ragged nested sequences (which is a list-or-tuple of lists-or-tuples-or ndarrays with different lengths or shapes) is deprecated. If you meant to do this, you must specify 'dtype=object' when creating the ndarray\n",
            "  return array(a, dtype, copy=False, order=order)\n"
          ],
          "name": "stderr"
        },
        {
          "output_type": "display_data",
          "data": {
            "image/png": "[encoded data removed]",
            "text/plain": [
              "<Figure size 864x576 with 1 Axes>"
            ]
          },
          "metadata": {
            "tags": [],
            "needs_background": "light"
          }
        }
      ]
    },
    {
      "cell_type": "markdown",
      "metadata": {
        "id": "_Hn0w-lU2ebL"
      },
      "source": [
        "Si possono notare nuovamente diverse caratteristiche:\n",
        "\n",
        "\n",
        "*   I lavoratori autonomi lavorano tendenzialmente più ore per settimana\n",
        "*   Le cariche governative(federale, locale, statale) ragionevolmente hanno la minore varianza dei dati per le ore di lavoro, concentrate quasi tutte intorno alle 40 ore.\n",
        "*   Le cariche che non richiedono pagamento (probabilmente tirocini, apprendistati) ha tendenzialmente un numero di ore lavorative in genere sotto le 40 ore, anche se vi sono molti dati anche per quantità di lavoro superiori alle 40 ore. \n",
        "\n"
      ]
    },
    {
      "cell_type": "markdown",
      "metadata": {
        "id": "vsWd3Skt1DDD"
      },
      "source": [
        "#Categorical encoding"
      ]
    },
    {
      "cell_type": "code",
      "metadata": {
        "id": "7xmGQwT2c5Lh"
      },
      "source": [
        "X = data.drop(columns = \"income\")\n",
        "Y = data[\"income\"]\n",
        "\n",
        "X.bfill(inplace=True)"
      ],
      "execution_count": 73,
      "outputs": []
    },
    {
      "cell_type": "code",
      "metadata": {
        "id": "2VSLEoyHc2Rp"
      },
      "source": [
        "from sklearn.preprocessing import OneHotEncoder\n",
        "from sklearn.preprocessing import StandardScaler\n",
        "\n",
        "one_hot_encoder = OneHotEncoder(sparse=False)\n",
        "std_scaler = StandardScaler()"
      ],
      "execution_count": 74,
      "outputs": []
    },
    {
      "cell_type": "markdown",
      "metadata": {
        "id": "m7g3zhbB0IQO"
      },
      "source": [
        "In questo caso si standardizzano le feature numeriche e quelle categoriche già trasformate con target encoding, il resto si trasforma con one-hot encoding"
      ]
    },
    {
      "cell_type": "code",
      "metadata": {
        "id": "NMp8kvhkgpsA"
      },
      "source": [
        "from sklearn.compose import ColumnTransformer\n",
        "from sklearn.pipeline import Pipeline\n",
        "\n",
        "preprocessor = ColumnTransformer([\n",
        "    (\"num_and_categorical_high\", std_scaler , quantitative + high_card_cat.tolist()),\n",
        "    ( \"categorical_low\", one_hot_encoder , low_card_cat )\n",
        "])\n"
      ],
      "execution_count": 75,
      "outputs": []
    },
    {
      "cell_type": "code",
      "metadata": {
        "id": "nXFJPV57yFa5"
      },
      "source": [
        "X = preprocessor.fit_transform(X)"
      ],
      "execution_count": 76,
      "outputs": []
    },
    {
      "cell_type": "code",
      "metadata": {
        "colab": {
          "base_uri": "https://localhost:8080/"
        },
        "id": "a4QRPyZgs9JO",
        "outputId": "bbcf332d-8ea0-4038-bf8c-f282769c4661"
      },
      "source": [
        "preprocessor.named_transformers_[\"categorical_low\"].get_feature_names(low_card_cat)"
      ],
      "execution_count": 77,
      "outputs": [
        {
          "output_type": "execute_result",
          "data": {
            "text/plain": [
              "array(['workclass_Federal-gov', 'workclass_Local-gov',\n",
              "       'workclass_Never-worked', 'workclass_Private',\n",
              "       'workclass_Self-emp-inc', 'workclass_Self-emp-not-inc',\n",
              "       'workclass_State-gov', 'workclass_Without-pay',\n",
              "       'marital.status_Divorced', 'marital.status_Married-AF-spouse',\n",
              "       'marital.status_Married-civ-spouse',\n",
              "       'marital.status_Married-spouse-absent',\n",
              "       'marital.status_Never-married', 'marital.status_Separated',\n",
              "       'marital.status_Widowed', 'occupation_Adm-clerical',\n",
              "       'occupation_Armed-Forces', 'occupation_Craft-repair',\n",
              "       'occupation_Exec-managerial', 'occupation_Farming-fishing',\n",
              "       'occupation_Handlers-cleaners', 'occupation_Machine-op-inspct',\n",
              "       'occupation_Other-service', 'occupation_Priv-house-serv',\n",
              "       'occupation_Prof-specialty', 'occupation_Protective-serv',\n",
              "       'occupation_Sales', 'occupation_Tech-support',\n",
              "       'occupation_Transport-moving', 'relationship_Husband',\n",
              "       'relationship_Not-in-family', 'relationship_Other-relative',\n",
              "       'relationship_Own-child', 'relationship_Unmarried',\n",
              "       'relationship_Wife', 'race_Amer-Indian-Eskimo',\n",
              "       'race_Asian-Pac-Islander', 'race_Black', 'race_Other',\n",
              "       'race_White', 'sex_Female', 'sex_Male'], dtype=object)"
            ]
          },
          "metadata": {
            "tags": []
          },
          "execution_count": 77
        }
      ]
    },
    {
      "cell_type": "code",
      "metadata": {
        "id": "5f2t7ZdhSJE3"
      },
      "source": [
        "full_columns_name = quantitative + high_card_cat.tolist() +  preprocessor.named_transformers_[\"categorical_low\"].get_feature_names(low_card_cat).tolist()"
      ],
      "execution_count": 78,
      "outputs": []
    },
    {
      "cell_type": "markdown",
      "metadata": {
        "id": "osBGq6TfRryQ"
      },
      "source": [
        "#Preparazione per la modellazione"
      ]
    },
    {
      "cell_type": "code",
      "metadata": {
        "id": "sQsI-itCkH9a"
      },
      "source": [
        "import warnings\n",
        "from sklearn.exceptions import ConvergenceWarning\n",
        "warnings.filterwarnings(\"ignore\", category=ConvergenceWarning)\n",
        "warnings.simplefilter(action='ignore', category=FutureWarning)"
      ],
      "execution_count": 79,
      "outputs": []
    },
    {
      "cell_type": "code",
      "metadata": {
        "id": "pey5ldgM5cRQ"
      },
      "source": [
        "from sklearn.model_selection import StratifiedKFold\n",
        "\n",
        "kf = StratifiedKFold(5, shuffle=True, random_state=10)"
      ],
      "execution_count": 80,
      "outputs": []
    },
    {
      "cell_type": "code",
      "metadata": {
        "id": "0YjI_kF35Coi"
      },
      "source": [
        "from sklearn.metrics import accuracy_score, f1_score, recall_score, precision_score\n",
        "from sklearn.metrics import classification_report\n",
        "\n",
        "def rand_search_cv(X_t, Y_t, X_v, Y_v, pipeline, grid, n_r_params,scoring, n_jobs = 1, refit = \"f1_score\"):\n",
        "  gs = RandomizedSearchCV(pipeline, grid, n_iter = n_r_params, cv=kf, scoring = scoring, refit = refit, n_jobs=n_jobs)\n",
        "  gs.fit(X_t, Y_t)\n",
        "  \n",
        "  y_pred = gs.predict(X_v)\n",
        "\n",
        "  print(f\"Best params : {gs.best_params_}\")\n",
        "  print(f\"Best training score : {gs.best_score_}\")\n",
        "\n",
        "  print(\"\\n TRAINING TIME \\n\")\n",
        "  print(pd.DataFrame({k:v for k,v in gs.cv_results_.items() if k.endswith(\"time\")}).mean())\n",
        "\n",
        "  print(\"\\n VALIDATION SET RESULTS\\n\")\n",
        "  print(classification_report(Y_v, y_pred))\n",
        "\n",
        "\n",
        "\n",
        "  return gs"
      ],
      "execution_count": 81,
      "outputs": []
    },
    {
      "cell_type": "code",
      "metadata": {
        "id": "rt8clb2EGxU3"
      },
      "source": [
        "from sklearn.model_selection import cross_val_predict\n",
        "from sklearn.metrics import precision_recall_curve\n",
        "\n",
        "def display_f1_score_tradeoff(estimator):\n",
        "  hyp_scores = cross_val_predict(estimator, X, Y, cv = kf, method = \"decision_function\")\n",
        "  precisions, recalls, thresholds = precision_recall_curve(Y, hyp_scores)\n",
        "\n",
        "  plt.plot(thresholds, precisions[:-1], label = \"precision\")\n",
        "  plt.plot(thresholds, recalls[:-1], label = \"recall\")\n",
        "  plt.plot(thresholds, (2 * precisions[:-1] * recalls[:-1]) / (precisions[:-1] + recalls[:-1]), label = \"f1\", c = \"red\")\n",
        "  plt.legend()\n",
        "  plt.yticks(np.arange(0,1,0.1))\n",
        "  plt.show()"
      ],
      "execution_count": 82,
      "outputs": []
    },
    {
      "cell_type": "code",
      "metadata": {
        "id": "ORwo3N0tM6p8"
      },
      "source": [
        "from sklearn.model_selection import train_test_split\n",
        "\n",
        "X_train, X_val, Y_train, Y_val = train_test_split(X, Y, test_size = 0.3, stratify = Y, random_state = 42)"
      ],
      "execution_count": 83,
      "outputs": []
    },
    {
      "cell_type": "markdown",
      "metadata": {
        "id": "NX6tJJOgMRHD"
      },
      "source": [
        "# Analisi iniziale con Logistic regression / SMOTE / undersampling e prime considerazioni sui risultati"
      ]
    },
    {
      "cell_type": "markdown",
      "metadata": {
        "id": "hcRUAr3wMqSf"
      },
      "source": [
        "Prima di eseguire il tuning degli iperparametri risulta utile valutare le performance medie di un modello standard"
      ]
    },
    {
      "cell_type": "code",
      "metadata": {
        "id": "IsTdMMygefcx"
      },
      "source": [
        "from sklearn.linear_model import LogisticRegression"
      ],
      "execution_count": null,
      "outputs": []
    },
    {
      "cell_type": "code",
      "metadata": {
        "colab": {
          "base_uri": "https://localhost:8080/"
        },
        "id": "opYh7_cJMN_E",
        "outputId": "65607494-ca78-4793-a283-96afc906ce54"
      },
      "source": [
        "lg1 = LogisticRegression(solver=\"saga\", random_state=42)\n",
        "\n",
        "lg1.fit(X_train, Y_train)"
      ],
      "execution_count": null,
      "outputs": [
        {
          "output_type": "execute_result",
          "data": {
            "text/plain": [
              "LogisticRegression(C=1.0, class_weight=None, dual=False, fit_intercept=True,\n",
              "                   intercept_scaling=1, l1_ratio=None, max_iter=100,\n",
              "                   multi_class='auto', n_jobs=None, penalty='l2',\n",
              "                   random_state=42, solver='saga', tol=0.0001, verbose=0,\n",
              "                   warm_start=False)"
            ]
          },
          "metadata": {
            "tags": []
          },
          "execution_count": 39
        }
      ]
    },
    {
      "cell_type": "code",
      "metadata": {
        "colab": {
          "base_uri": "https://localhost:8080/"
        },
        "id": "HSCHjcosE14k",
        "outputId": "0c6b9c30-0be0-45f2-96ae-7c09dcd2cc01"
      },
      "source": [
        "f1_score(Y_val, lg1.predict(X_val))"
      ],
      "execution_count": null,
      "outputs": [
        {
          "output_type": "execute_result",
          "data": {
            "text/plain": [
              "0.6570296106318488"
            ]
          },
          "metadata": {
            "tags": []
          },
          "execution_count": 40
        }
      ]
    },
    {
      "cell_type": "markdown",
      "metadata": {
        "id": "ZsDpm1cuTf8x"
      },
      "source": [
        "Per evitare risultati troppo ottimistici dipendenti dallo split del dataset è necessario valutare il modello standard con un k-fold cross_validation"
      ]
    },
    {
      "cell_type": "code",
      "metadata": {
        "id": "WFf2r0tSRrnO"
      },
      "source": [
        "scoring = {\n",
        "    \"Accuracy\": \"accuracy\",\n",
        "    \"f1_score\": \"f1\",\n",
        "    \"recall_score\": \"recall\",\n",
        "    \"precision_score\": \"precision\"\n",
        "}"
      ],
      "execution_count": null,
      "outputs": []
    },
    {
      "cell_type": "code",
      "metadata": {
        "id": "BonOEprMRg0c"
      },
      "source": [
        "from sklearn.model_selection import cross_validate\n",
        "\n",
        "score_values = cross_validate(lg1, X, Y, scoring = scoring)\n",
        "\n",
        "results = pd.DataFrame(score_values)\n"
      ],
      "execution_count": null,
      "outputs": []
    },
    {
      "cell_type": "code",
      "metadata": {
        "colab": {
          "base_uri": "https://localhost:8080/",
          "height": 203
        },
        "id": "nmmO6jToTcyL",
        "outputId": "6be9c701-a4d9-4e82-e88e-99b1f0e935a1"
      },
      "source": [
        "results"
      ],
      "execution_count": null,
      "outputs": [
        {
          "output_type": "execute_result",
          "data": {
            "text/html": [
              "<div>\n",
              "<style scoped>\n",
              "    .dataframe tbody tr th:only-of-type {\n",
              "        vertical-align: middle;\n",
              "    }\n",
              "\n",
              "    .dataframe tbody tr th {\n",
              "        vertical-align: top;\n",
              "    }\n",
              "\n",
              "    .dataframe thead th {\n",
              "        text-align: right;\n",
              "    }\n",
              "</style>\n",
              "<table border=\"1\" class=\"dataframe\">\n",
              "  <thead>\n",
              "    <tr style=\"text-align: right;\">\n",
              "      <th></th>\n",
              "      <th>fit_time</th>\n",
              "      <th>score_time</th>\n",
              "      <th>test_Accuracy</th>\n",
              "      <th>test_f1_score</th>\n",
              "      <th>test_recall_score</th>\n",
              "      <th>test_precision_score</th>\n",
              "    </tr>\n",
              "  </thead>\n",
              "  <tbody>\n",
              "    <tr>\n",
              "      <th>0</th>\n",
              "      <td>2.140831</td>\n",
              "      <td>0.015729</td>\n",
              "      <td>0.813757</td>\n",
              "      <td>0.694689</td>\n",
              "      <td>0.879541</td>\n",
              "      <td>0.574043</td>\n",
              "    </tr>\n",
              "    <tr>\n",
              "      <th>1</th>\n",
              "      <td>2.030755</td>\n",
              "      <td>0.018757</td>\n",
              "      <td>0.871929</td>\n",
              "      <td>0.707779</td>\n",
              "      <td>0.644133</td>\n",
              "      <td>0.785381</td>\n",
              "    </tr>\n",
              "    <tr>\n",
              "      <th>2</th>\n",
              "      <td>2.068158</td>\n",
              "      <td>0.016839</td>\n",
              "      <td>0.822021</td>\n",
              "      <td>0.535471</td>\n",
              "      <td>0.426020</td>\n",
              "      <td>0.720604</td>\n",
              "    </tr>\n",
              "    <tr>\n",
              "      <th>3</th>\n",
              "      <td>2.081443</td>\n",
              "      <td>0.016386</td>\n",
              "      <td>0.830313</td>\n",
              "      <td>0.549898</td>\n",
              "      <td>0.430485</td>\n",
              "      <td>0.760992</td>\n",
              "    </tr>\n",
              "    <tr>\n",
              "      <th>4</th>\n",
              "      <td>2.049077</td>\n",
              "      <td>0.017161</td>\n",
              "      <td>0.825553</td>\n",
              "      <td>0.543408</td>\n",
              "      <td>0.431122</td>\n",
              "      <td>0.734783</td>\n",
              "    </tr>\n",
              "  </tbody>\n",
              "</table>\n",
              "</div>"
            ],
            "text/plain": [
              "   fit_time  score_time  ...  test_recall_score  test_precision_score\n",
              "0  2.140831    0.015729  ...           0.879541              0.574043\n",
              "1  2.030755    0.018757  ...           0.644133              0.785381\n",
              "2  2.068158    0.016839  ...           0.426020              0.720604\n",
              "3  2.081443    0.016386  ...           0.430485              0.760992\n",
              "4  2.049077    0.017161  ...           0.431122              0.734783\n",
              "\n",
              "[5 rows x 6 columns]"
            ]
          },
          "metadata": {
            "tags": []
          },
          "execution_count": 228
        }
      ]
    },
    {
      "cell_type": "code",
      "metadata": {
        "colab": {
          "base_uri": "https://localhost:8080/"
        },
        "id": "RvXTdXbvTsqK",
        "outputId": "8bfcd0ff-b441-477a-b7ea-d7b810929f1b"
      },
      "source": [
        "results.mean()"
      ],
      "execution_count": null,
      "outputs": [
        {
          "output_type": "execute_result",
          "data": {
            "text/plain": [
              "fit_time                2.074053\n",
              "score_time              0.016974\n",
              "test_Accuracy           0.832715\n",
              "test_f1_score           0.606249\n",
              "test_recall_score       0.562260\n",
              "test_precision_score    0.715161\n",
              "dtype: float64"
            ]
          },
          "metadata": {
            "tags": []
          },
          "execution_count": 229
        }
      ]
    },
    {
      "cell_type": "markdown",
      "metadata": {
        "id": "Y6-WC0zPNdPf"
      },
      "source": [
        "Si può notare come nonostante un alto valore di accuracy, l'f1_score sia decisamente più basso, questo è causato dallo sbilanciamento tra classi. E' quindi probabile che le predizioni ad alto income(le più rare) siano perlopiù errate. In particolare ciò sembra influenzato dal valore di recall che risulta estremamente basso"
      ]
    },
    {
      "cell_type": "code",
      "metadata": {
        "colab": {
          "base_uri": "https://localhost:8080/",
          "height": 282
        },
        "id": "qIT9HtbkN1EU",
        "outputId": "6f1615d6-855a-4a5a-9d29-32acdeafe1bd"
      },
      "source": [
        "from sklearn.metrics import confusion_matrix\n",
        "\n",
        "sns.heatmap(confusion_matrix(Y_val, lg1.predict(X_val)), annot = True, fmt = \".0f\")"
      ],
      "execution_count": null,
      "outputs": [
        {
          "output_type": "execute_result",
          "data": {
            "text/plain": [
              "<matplotlib.axes._subplots.AxesSubplot at 0x7f044fcadd90>"
            ]
          },
          "metadata": {
            "tags": []
          },
          "execution_count": 230
        },
        {
          "output_type": "display_data",
          "data": {
            "image/png": "[encoded data removed]",
            "text/plain": [
              "<Figure size 432x288 with 2 Axes>"
            ]
          },
          "metadata": {
            "tags": [],
            "needs_background": "light"
          }
        }
      ]
    },
    {
      "cell_type": "markdown",
      "metadata": {
        "id": "PckFc0qUWyq9"
      },
      "source": [
        "Si può notare infatti notare dalla confusion matrix un recall score molto basso in quanto il numero di falsi negativi è molto vicino a quello dei veri positivi"
      ]
    },
    {
      "cell_type": "markdown",
      "metadata": {
        "id": "FDyGea5EUev4"
      },
      "source": [
        "Si può migliorare la valutazione aggiungendo un peso alle classificazioni di high income, ricordando la fase di EDA si è individuato un rateo medio di 3-4 low income per ogni high income, pertanto non si andrà oltre tali valori.\n",
        "Al tempo stesso si valutano anche gli altri iperparametri con una random search"
      ]
    },
    {
      "cell_type": "code",
      "metadata": {
        "colab": {
          "base_uri": "https://localhost:8080/"
        },
        "id": "PA5EXpe6SCrj",
        "outputId": "6a85d651-9623-45b6-97cd-03afa35c6c62"
      },
      "source": [
        "grid = [\n",
        "    {\n",
        "      \"class_weight\" : [{1 : w} for w in [1.5, 2, 2.5, 3, 3.5]],\n",
        "      \"C\" : [0.001, 0.01, 0.1, 1],\n",
        "      \"penalty\" : [\"elasticnet\"],\n",
        "      \"l1_ratio\" : [0.2, 0.5, 0.7]\n",
        "    },\n",
        "    {\n",
        "      \"class_weight\" : [{1 : w} for w in [1.5, 2, 2.5, 3, 3.5]],\n",
        "      \"C\" : [0.001, 0.01, 0.1, 1],\n",
        "      \"penalty\" : [\"l1\", \"l2\"]   \n",
        "    }\n",
        "]\n",
        "\n",
        "#result = rand_search_cv(X_train, Y_train, X_val, Y_val, LogisticRegression(solver=\"saga\", random_state=42),  grid, 30, scoring) \n"
      ],
      "execution_count": null,
      "outputs": [
        {
          "output_type": "stream",
          "text": [
            "Best params : {'penalty': 'elasticnet', 'l1_ratio': 0.2, 'class_weight': {1: 2}, 'C': 1}\n",
            "Best training score : 0.6925381615975521\n",
            "\n",
            " TRAINING TIME \n",
            "\n",
            "mean_fit_time      1.096574\n",
            "std_fit_time       0.046919\n",
            "mean_score_time    0.014412\n",
            "std_score_time     0.001050\n",
            "dtype: float64\n",
            "\n",
            " VALIDATION SET RESULTS\n",
            "\n",
            "              precision    recall  f1-score   support\n",
            "\n",
            "           0       0.92      0.86      0.89      7417\n",
            "           1       0.63      0.76      0.69      2352\n",
            "\n",
            "    accuracy                           0.84      9769\n",
            "   macro avg       0.77      0.81      0.79      9769\n",
            "weighted avg       0.85      0.84      0.84      9769\n",
            "\n"
          ],
          "name": "stdout"
        }
      ]
    },
    {
      "cell_type": "code",
      "metadata": {
        "colab": {
          "base_uri": "https://localhost:8080/"
        },
        "id": "GD_1NL6WKj9r",
        "outputId": "68a0d18e-6a22-4e80-d191-cada546d77b2"
      },
      "source": [
        "lg1 = LogisticRegression(solver=\"saga\", penalty = 'elasticnet', l1_ratio = 0.2, class_weight =  {1: 2}, C =  1)\n",
        "lg1.fit(X_train, Y_train)\n",
        "print(classification_report(Y_val, lg1.predict(X_val)))"
      ],
      "execution_count": null,
      "outputs": [
        {
          "output_type": "stream",
          "text": [
            "              precision    recall  f1-score   support\n",
            "\n",
            "           0       0.92      0.86      0.89      7417\n",
            "           1       0.63      0.76      0.69      2352\n",
            "\n",
            "    accuracy                           0.84      9769\n",
            "   macro avg       0.77      0.81      0.79      9769\n",
            "weighted avg       0.85      0.84      0.84      9769\n",
            "\n"
          ],
          "name": "stdout"
        }
      ]
    },
    {
      "cell_type": "markdown",
      "metadata": {
        "id": "XdK1ZwDQgSUx"
      },
      "source": [
        "In questo caso utilizzare una RandomSearch con 1/5 dei parametri iniziali (30 su 100) ha fornito gli stessi risultati di una gridsearch su diverse prove e ridotto i tempi da 10 a 3 minuti.\n",
        "Si è rilevato inoltre che il peso più adatto alla classe a bassa frequenza per massimizzare l'f1 score è 2"
      ]
    },
    {
      "cell_type": "code",
      "metadata": {
        "colab": {
          "base_uri": "https://localhost:8080/",
          "height": 282
        },
        "id": "OC_b6safhPTA",
        "outputId": "b2ca4d61-593a-4318-fb61-9282a00b2fb9"
      },
      "source": [
        "sns.heatmap(confusion_matrix(Y_val, lg1.predict(X_val)), annot = True, fmt = \".0f\")"
      ],
      "execution_count": null,
      "outputs": [
        {
          "output_type": "execute_result",
          "data": {
            "text/plain": [
              "<matplotlib.axes._subplots.AxesSubplot at 0x7f044fc2ead0>"
            ]
          },
          "metadata": {
            "tags": []
          },
          "execution_count": 232
        },
        {
          "output_type": "display_data",
          "data": {
            "image/png": "[encoded data removed]",
            "text/plain": [
              "<Figure size 432x288 with 2 Axes>"
            ]
          },
          "metadata": {
            "tags": [],
            "needs_background": "light"
          }
        }
      ]
    },
    {
      "cell_type": "markdown",
      "metadata": {
        "id": "iZE6XBTBh4I8"
      },
      "source": [
        "I risultati sono considerevolmente migliorati: l'accuracy è aumentata dall'83 all'84%, mentre l'f1-score(probabilmente grazie ai pesi) è passata dal 60 al 69%.\n",
        "L'unica pecca, come si può notare dalla confusion matrix, è che i valori di precision sono diminuiti, ma la recall è aumentata considerevolmente. Tutto sommato però il nuovo modello è decisamente migliore rispetto al precedente."
      ]
    },
    {
      "cell_type": "markdown",
      "metadata": {
        "id": "KSpEo3gItkEl"
      },
      "source": [
        "Si analizza ora il threshold dell'iperpiano per vedere se esiste un valore migliore di bilanciamento recall/precision"
      ]
    },
    {
      "cell_type": "code",
      "metadata": {
        "colab": {
          "base_uri": "https://localhost:8080/",
          "height": 265
        },
        "id": "6E4g02h0JFEr",
        "outputId": "d0e7be7f-c48d-4846-9ba0-ce400ffb294b"
      },
      "source": [
        "display_f1_score_tradeoff(lg1)"
      ],
      "execution_count": null,
      "outputs": [
        {
          "output_type": "display_data",
          "data": {
            "image/png": "[encoded data removed]",
            "text/plain": [
              "<Figure size 432x288 with 1 Axes>"
            ]
          },
          "metadata": {
            "tags": [],
            "needs_background": "light"
          }
        }
      ]
    },
    {
      "cell_type": "markdown",
      "metadata": {
        "id": "ZBwzjZHGKOYZ"
      },
      "source": [
        "Sembra che i valori di precision e recall si bilancino intorno al 65-69%. In questo caso non vi sono degli score di recall/precision particolarmente più alti rispetto a quelli già ottenuti. Inoltre si può notare come il valore massimo di f1 si ottiene molto vicino a questo bilanciamento ma con un valore leggermente superiore di recall (come ottenuto dal modello addestrato).\n"
      ]
    },
    {
      "cell_type": "code",
      "metadata": {
        "colab": {
          "base_uri": "https://localhost:8080/"
        },
        "id": "2XNtlBgNne-t",
        "outputId": "3e1805bf-99fe-49ef-e1bb-1fdd3d9ae0ea"
      },
      "source": [
        "entropy([ np.where(Y == 0)[0].shape[0] / X.shape[0], np.where(Y == 1)[0].shape[0] / X.shape[0]])"
      ],
      "execution_count": null,
      "outputs": [
        {
          "output_type": "execute_result",
          "data": {
            "text/plain": [
              "0.5520112931915918"
            ]
          },
          "metadata": {
            "tags": []
          },
          "execution_count": 234
        }
      ]
    },
    {
      "cell_type": "markdown",
      "metadata": {
        "id": "LVG6hX5wo9uR"
      },
      "source": [
        "Il valore di entropia di questo dataset risulta generalmente nella media(dove 0 rappresenta un dataset estremamente sbilanciato ed 1 uno perfettamente bilanciato), per questo motivo optare per tecniche di oversampling come SMOTE potrebbe non portare a risultati sperati e, anzi peggiorarli. Si testano ugualmente tali metodi per capire sia valido o meno il loro utilizzo in questo caso"
      ]
    },
    {
      "cell_type": "code",
      "metadata": {
        "id": "IoQYr5zpkCIJ"
      },
      "source": [
        "from imblearn.over_sampling import SMOTE\n",
        "from imblearn.pipeline import make_pipeline"
      ],
      "execution_count": null,
      "outputs": []
    },
    {
      "cell_type": "code",
      "metadata": {
        "colab": {
          "base_uri": "https://localhost:8080/"
        },
        "id": "nxlKZREjlVfv",
        "outputId": "2fb6ab32-9fc1-49c9-eee6-c7904f5aef8e"
      },
      "source": [
        "\n",
        "#sm_pipe = make_pipeline(SMOTE(random_state=1, sampling_strategy=\"minority\"), LogisticRegression(solver=\"saga\", random_state=42))\n",
        "\n",
        "grid = [\n",
        "    {\n",
        "      \"logisticregression__C\" : [0.001, 0.01, 0.1, 1],\n",
        "      \"logisticregression__penalty\" : [\"elasticnet\"],\n",
        "      \"logisticregression__l1_ratio\" : [0.2, 0.5, 0.7]\n",
        "    },\n",
        "    {\n",
        "      \"logisticregression__C\" : [0.001, 0.01, 0.1, 1],\n",
        "      \"logisticregression__penalty\" : [\"l1\", \"l2\"]   \n",
        "    }\n",
        "]\n",
        "\n",
        "#sm_model = rand_search_cv(X_train, Y_train, X_val, Y_val, sm_pipe, grid, 10, scoring, -1)"
      ],
      "execution_count": null,
      "outputs": [
        {
          "output_type": "stream",
          "text": [
            "Best params : {'logisticregression__penalty': 'elasticnet', 'logisticregression__l1_ratio': 0.2, 'logisticregression__C': 1}\n",
            "Best training score : 0.6849891534606002\n",
            "\n",
            " TRAINING TIME \n",
            "\n",
            "mean_fit_time      5.010291\n",
            "std_fit_time       0.068281\n",
            "mean_score_time    0.014378\n",
            "std_score_time     0.001673\n",
            "dtype: float64\n",
            "\n",
            " VALIDATION SET RESULTS\n",
            "\n",
            "              precision    recall  f1-score   support\n",
            "\n",
            "           0       0.94      0.79      0.86      7417\n",
            "           1       0.56      0.84      0.67      2352\n",
            "\n",
            "    accuracy                           0.80      9769\n",
            "   macro avg       0.75      0.82      0.77      9769\n",
            "weighted avg       0.85      0.80      0.82      9769\n",
            "\n"
          ],
          "name": "stdout"
        }
      ]
    },
    {
      "cell_type": "code",
      "metadata": {
        "colab": {
          "base_uri": "https://localhost:8080/"
        },
        "id": "zS9b50KWMrhn",
        "outputId": "abc3421b-b684-40b5-9573-ea41eebf6510"
      },
      "source": [
        "sm_pipe = make_pipeline(SMOTE(random_state=1, sampling_strategy=\"minority\"), \n",
        "                        LogisticRegression(solver=\"saga\", random_state=42, penalty = 'elasticnet', l1_ratio = 0.2, C =  1))\n",
        "sm_pipe.fit(X_train, Y_train)\n",
        "print(classification_report(Y_val, sm_pipe.predict(X_val)))"
      ],
      "execution_count": null,
      "outputs": [
        {
          "output_type": "stream",
          "text": [
            "              precision    recall  f1-score   support\n",
            "\n",
            "           0       0.94      0.79      0.86      7417\n",
            "           1       0.56      0.84      0.67      2352\n",
            "\n",
            "    accuracy                           0.80      9769\n",
            "   macro avg       0.75      0.82      0.77      9769\n",
            "weighted avg       0.85      0.80      0.82      9769\n",
            "\n"
          ],
          "name": "stdout"
        }
      ]
    },
    {
      "cell_type": "code",
      "metadata": {
        "colab": {
          "base_uri": "https://localhost:8080/",
          "height": 282
        },
        "id": "eD7RJe9OCiZH",
        "outputId": "8abbc69f-ac5e-418b-a8c6-e1dcfab1488d"
      },
      "source": [
        "sns.heatmap(confusion_matrix(Y_val, sm_pipe.predict(X_val)), annot = True, fmt = \".0f\")"
      ],
      "execution_count": null,
      "outputs": [
        {
          "output_type": "execute_result",
          "data": {
            "text/plain": [
              "<matplotlib.axes._subplots.AxesSubplot at 0x7f0450961990>"
            ]
          },
          "metadata": {
            "tags": []
          },
          "execution_count": 237
        },
        {
          "output_type": "display_data",
          "data": {
            "image/png": "[encoded data removed]",
            "text/plain": [
              "<Figure size 432x288 with 2 Axes>"
            ]
          },
          "metadata": {
            "tags": [],
            "needs_background": "light"
          }
        }
      ]
    },
    {
      "cell_type": "markdown",
      "metadata": {
        "id": "l9RH7ty-yb0C"
      },
      "source": [
        "In questo caso infatti lo SMOTE ha portato a risultati tendenzialmente peggiori\n",
        "diminuendo l'accuracy all'80% e l'f1 al 67%, inoltre si ha avuto:\n",
        "\n",
        "*   più alta recall(i dati associati realmente ad alti guadagni sono stati classificati in maniera migliore)\n",
        "*   più bassa precision(molti dei dati realmente di low_income sono stati classificati erroneamente come high_income a causa dell'oversampling) \n",
        "\n",
        "In sostanza  si può dire che il modello diventa tendenzialmente peggiore anche in termini di tempo di addestramento."
      ]
    },
    {
      "cell_type": "markdown",
      "metadata": {
        "id": "_EjFPps9AI4y"
      },
      "source": [
        "Un secondo approccio è quello di diminuire i dati tramite un undersampling."
      ]
    },
    {
      "cell_type": "code",
      "metadata": {
        "id": "kMq_peAbm_H4"
      },
      "source": [
        "from imblearn.under_sampling import RandomUnderSampler"
      ],
      "execution_count": null,
      "outputs": []
    },
    {
      "cell_type": "markdown",
      "metadata": {
        "id": "wkxN8vL5BbmC"
      },
      "source": [
        "Come precedentemente con SMOTE, i dati di validazione non vengono trasformati. Il motivo principale è evitare score troppo ottimistici risultanti da un sampling anche sul validation set "
      ]
    },
    {
      "cell_type": "code",
      "metadata": {
        "colab": {
          "base_uri": "https://localhost:8080/"
        },
        "id": "KtIUoPlXnIfp",
        "outputId": "6b11b5a4-cbae-4550-943d-b6913ccf19b7"
      },
      "source": [
        "#us_pipe = make_pipeline(RandomUnderSampler(random_state=42), LogisticRegression(solver=\"saga\", random_state=42))\n",
        "\n",
        "\n",
        "grid = [\n",
        "    {\n",
        "      \"randomundersampler__sampling_strategy\" : [0.5, 0.8, \"majority\"],\n",
        "      \"logisticregression__C\" : [0.001, 0.01, 0.1, 1],\n",
        "      \"logisticregression__penalty\" : [\"elasticnet\"],\n",
        "      \"logisticregression__l1_ratio\" : [0.2, 0.5, 0.7]\n",
        "    },\n",
        "    {\n",
        "      \"randomundersampler__sampling_strategy\" : [0.5, 0.8, \"majority\"],\n",
        "      \"logisticregression__C\" : [0.001, 0.01, 0.1, 1],\n",
        "      \"logisticregression__penalty\" : [\"l1\", \"l2\"]   \n",
        "    }\n",
        "]\n",
        "\n",
        "\n",
        "#us_model = rand_search_cv(X_train, Y_train, X_val, Y_val, us_pipe, grid, 25, scoring, -1)\n"
      ],
      "execution_count": null,
      "outputs": [
        {
          "output_type": "stream",
          "text": [
            "Best params : {'randomundersampler__sampling_strategy': 0.5, 'logisticregression__penalty': 'elasticnet', 'logisticregression__l1_ratio': 0.2, 'logisticregression__C': 1}\n",
            "Best training score : 0.6893377253501134\n",
            "\n",
            " TRAINING TIME \n",
            "\n",
            "mean_fit_time      0.980402\n",
            "std_fit_time       0.025201\n",
            "mean_score_time    0.013288\n",
            "std_score_time     0.000573\n",
            "dtype: float64\n",
            "\n",
            " VALIDATION SET RESULTS\n",
            "\n",
            "              precision    recall  f1-score   support\n",
            "\n",
            "           0       0.91      0.89      0.90      7417\n",
            "           1       0.67      0.71      0.69      2352\n",
            "\n",
            "    accuracy                           0.84      9769\n",
            "   macro avg       0.79      0.80      0.79      9769\n",
            "weighted avg       0.85      0.84      0.85      9769\n",
            "\n"
          ],
          "name": "stdout"
        }
      ]
    },
    {
      "cell_type": "code",
      "metadata": {
        "colab": {
          "base_uri": "https://localhost:8080/"
        },
        "id": "um-Ed-uYNhXu",
        "outputId": "6b4d37f0-7818-4589-a751-350a4795a0c7"
      },
      "source": [
        "us_pipe = make_pipeline(RandomUnderSampler(random_state=42, sampling_strategy=0.5), \n",
        "                        LogisticRegression(solver=\"saga\", random_state=42, penalty = 'elasticnet', l1_ratio = 0.2, C =  1))\n",
        "us_pipe.fit(X_train, Y_train)\n",
        "print(classification_report(Y_val, us_pipe.predict(X_val)))"
      ],
      "execution_count": null,
      "outputs": [
        {
          "output_type": "stream",
          "text": [
            "              precision    recall  f1-score   support\n",
            "\n",
            "           0       0.91      0.89      0.90      7417\n",
            "           1       0.67      0.71      0.69      2352\n",
            "\n",
            "    accuracy                           0.84      9769\n",
            "   macro avg       0.79      0.80      0.79      9769\n",
            "weighted avg       0.85      0.84      0.85      9769\n",
            "\n"
          ],
          "name": "stdout"
        }
      ]
    },
    {
      "cell_type": "markdown",
      "metadata": {
        "id": "cOarIAQj5u1C"
      },
      "source": [
        "In questo caso l'undersampling ha portato a risultati quasi identici al modello iniziale.\n",
        "Vi è però il vantaggio che i valori di recall e precision sono stati bilanciati meglio tra di loro, fornendo quindi un risultato maggiormente bilanciato. Inoltre essendo i dati diminuiti i tempi di addestramento risultano migliori"
      ]
    },
    {
      "cell_type": "markdown",
      "metadata": {
        "id": "t6pK-9PtAgUt"
      },
      "source": [
        "Si nota inoltre che dopo la trasformazione i dati più popolati sono stati ridotti a circa il doppio di quelli poco popolati, invece del vecchio rapporto 1 : 3.5"
      ]
    },
    {
      "cell_type": "code",
      "metadata": {
        "id": "0oLKaZal5Fq0"
      },
      "source": [
        "_, Y_t_s = RandomUnderSampler(sampling_strategy =  0.5, random_state=42).fit_resample(X_train, Y_train)"
      ],
      "execution_count": null,
      "outputs": []
    },
    {
      "cell_type": "code",
      "metadata": {
        "colab": {
          "base_uri": "https://localhost:8080/",
          "height": 248
        },
        "id": "Ukvr-Pop733B",
        "outputId": "2737c5aa-f885-441b-d8eb-90ea91c74be3"
      },
      "source": [
        "plt.pie([np.count_nonzero(Y_t_s), np.count_nonzero(Y_t_s == 0)], labels= [\"High_income\", \"Low_income\"]);"
      ],
      "execution_count": null,
      "outputs": [
        {
          "output_type": "display_data",
          "data": {
            "image/png": "[encoded data removed]",
            "text/plain": [
              "<Figure size 432x288 with 1 Axes>"
            ]
          },
          "metadata": {
            "tags": []
          }
        }
      ]
    },
    {
      "cell_type": "markdown",
      "metadata": {
        "id": "zm9gAVzm6DPR"
      },
      "source": [
        "Si esegue pertanto un'analisi relativa ai coefficenti appresi dal modello in undersampling"
      ]
    },
    {
      "cell_type": "code",
      "metadata": {
        "colab": {
          "base_uri": "https://localhost:8080/"
        },
        "id": "RJAoAowB3zq5",
        "outputId": "23523674-c527-45d1-d0d8-646ab80ba002"
      },
      "source": [
        "pd.Series(us_pipe.named_steps[\"logisticregression\"].coef_[0], index = full_columns_name)"
      ],
      "execution_count": null,
      "outputs": [
        {
          "output_type": "execute_result",
          "data": {
            "text/plain": [
              "age                                     0.352378\n",
              "fnlwgt                                  0.074563\n",
              "education.num                           0.749786\n",
              "capital.gain                            2.102488\n",
              "capital.loss                            0.255649\n",
              "hours.per.week                          0.398004\n",
              "native.country                          0.153018\n",
              "workclass_Federal-gov                   0.710107\n",
              "workclass_Local-gov                    -0.104050\n",
              "workclass_Never-worked                  0.000000\n",
              "workclass_Private                       0.040497\n",
              "workclass_Self-emp-inc                  0.135218\n",
              "workclass_Self-emp-not-inc             -0.374795\n",
              "workclass_State-gov                    -0.378376\n",
              "workclass_Without-pay                  -0.684973\n",
              "marital.status_Divorced                -0.387780\n",
              "marital.status_Married-AF-spouse        0.831882\n",
              "marital.status_Married-civ-spouse       1.238317\n",
              "marital.status_Married-spouse-absent   -0.477494\n",
              "marital.status_Never-married           -0.881076\n",
              "marital.status_Separated               -0.506534\n",
              "marital.status_Widowed                 -0.360265\n",
              "occupation_Adm-clerical                 0.085476\n",
              "occupation_Armed-Forces                -0.108230\n",
              "occupation_Craft-repair                 0.162560\n",
              "occupation_Exec-managerial              0.810982\n",
              "occupation_Farming-fishing             -0.909849\n",
              "occupation_Handlers-cleaners           -0.589726\n",
              "occupation_Machine-op-inspct           -0.294960\n",
              "occupation_Other-service               -0.796259\n",
              "occupation_Priv-house-serv             -1.537492\n",
              "occupation_Prof-specialty               0.603164\n",
              "occupation_Protective-serv              0.585120\n",
              "occupation_Sales                        0.365109\n",
              "occupation_Tech-support                 0.709819\n",
              "occupation_Transport-moving             0.000000\n",
              "relationship_Husband                    0.049682\n",
              "relationship_Not-in-family              0.006149\n",
              "relationship_Other-relative            -0.687771\n",
              "relationship_Own-child                 -1.346252\n",
              "relationship_Unmarried                 -0.220693\n",
              "relationship_Wife                       1.456486\n",
              "race_Amer-Indian-Eskimo                -0.342084\n",
              "race_Asian-Pac-Islander                -0.144934\n",
              "race_Black                             -0.007242\n",
              "race_Other                             -0.181417\n",
              "race_White                              0.141844\n",
              "sex_Female                             -0.782207\n",
              "sex_Male                                0.017463\n",
              "dtype: float64"
            ]
          },
          "metadata": {
            "tags": []
          },
          "execution_count": 242
        }
      ]
    },
    {
      "cell_type": "markdown",
      "metadata": {
        "id": "UMH4oAen6cPV"
      },
      "source": [
        "Si può notare dai pesi assegnati che:\n",
        "\n",
        "\n",
        "*   Un maggiore livello di educazione corrisponde ad un income maggiore (0.72)\n",
        "*   Gli individui separati tendono a guadagnare di meno (-0.50)\n",
        "*   L'occupazione pesato maggiormente dal modello è quella di manager esecutivo(0.75)\n",
        "\n",
        "(Questi valori possono variare leggermente in seguito all'addestramento)"
      ]
    },
    {
      "cell_type": "markdown",
      "metadata": {
        "id": "tfbEtDnBYhnL"
      },
      "source": [
        "Nei modelli successivi per evitare risultati poco interessanti verranno fatte le seguenti modifiche:\n",
        "\n",
        "\n",
        "*   si eviterà di testare ulteriormente tecniche di undersampling in quanto non hanno migliorato particolarmente il risultato (ciò ovviamente non nega che tali tecniche possano migliorare considerevolmente i risultati per modelli successivi) \n",
        "*   Gli iperparametri verranno scelti non più solo sulla base dell'f1-score ma anche dell'accuracy, infatti l'f1 individuato fino ad ora tende ad attenersi poco sotto al 69%, quindi può risultare più produttivo valutare l'accuracy , sperando che questa scelta riesca a migliorare congiuntamente l'f1_score\n",
        "\n"
      ]
    },
    {
      "cell_type": "markdown",
      "metadata": {
        "id": "JNG9hQvbjavf"
      },
      "source": [
        "#Decision Tree"
      ]
    },
    {
      "cell_type": "code",
      "metadata": {
        "id": "RkMTliObgw5V"
      },
      "source": [
        "from sklearn.tree import DecisionTreeClassifier\n",
        "\n",
        "model_tree = DecisionTreeClassifier(random_state=42)"
      ],
      "execution_count": null,
      "outputs": []
    },
    {
      "cell_type": "markdown",
      "metadata": {
        "id": "MBGh661VWUT9"
      },
      "source": [
        "In questo caso per non perdere le proprietà di interpretabilità dell'albero si applica alle feature numeriche uno standardScaling inverso"
      ]
    },
    {
      "cell_type": "code",
      "metadata": {
        "id": "uuSyX0auZC08"
      },
      "source": [
        "X_unscaled = np.concatenate((preprocessor.named_transformers_[\"num_and_categorical_high\"].inverse_transform(X[:, :7]), X[:, 7:]), axis = 1)"
      ],
      "execution_count": 84,
      "outputs": []
    },
    {
      "cell_type": "code",
      "metadata": {
        "id": "W7cAVo6nYFyy"
      },
      "source": [
        "X_train_u, X_val_u, Y_train_u, Y_val_u = train_test_split(X_unscaled, Y, test_size = 0.3, stratify = Y)"
      ],
      "execution_count": 85,
      "outputs": []
    },
    {
      "cell_type": "code",
      "metadata": {
        "id": "WybvVUHPhbUC",
        "colab": {
          "base_uri": "https://localhost:8080/"
        },
        "outputId": "2f86dc5e-dde9-4724-9310-7dee047480bc"
      },
      "source": [
        "grid = {\n",
        "    \"max_depth\" : [5, 10, 20],\n",
        "    \"class_weight\": [{1 : 1.5}],\n",
        "    \"min_samples_split\" : [50, 100, 150],\n",
        "    \"criterion\" : [\"gini\",\"entropy\"]\n",
        "}\n",
        "\n",
        "\n",
        "#best_tree_model = rand_search_cv(X_train_u, Y_train_u, X_val_u, Y_val_u, model_tree, grid, 10, scoring, -1)"
      ],
      "execution_count": null,
      "outputs": [
        {
          "output_type": "stream",
          "text": [
            "Best params : {'min_samples_split': 150, 'max_depth': 20, 'criterion': 'gini', 'class_weight': {1: 1.5}}\n",
            "Best training score : 0.6814808987252533\n",
            "\n",
            " TRAINING TIME \n",
            "\n",
            "mean_fit_time      0.187060\n",
            "std_fit_time       0.031192\n",
            "mean_score_time    0.016850\n",
            "std_score_time     0.005324\n",
            "dtype: float64\n",
            "\n",
            " VALIDATION SET RESULTS\n",
            "\n",
            "              precision    recall  f1-score   support\n",
            "\n",
            "           0       0.91      0.88      0.90      7417\n",
            "           1       0.67      0.74      0.70      2352\n",
            "\n",
            "    accuracy                           0.85      9769\n",
            "   macro avg       0.79      0.81      0.80      9769\n",
            "weighted avg       0.85      0.85      0.85      9769\n",
            "\n"
          ],
          "name": "stdout"
        }
      ]
    },
    {
      "cell_type": "code",
      "metadata": {
        "colab": {
          "base_uri": "https://localhost:8080/"
        },
        "id": "hEV_T3RsamFE",
        "outputId": "17835a84-99e1-43c6-c8f5-0921e208d24b"
      },
      "source": [
        "best_tree_model =  DecisionTreeClassifier(min_samples_split=150, max_depth=20, criterion=\"gini\", class_weight={1: 1.5})\n",
        "best_tree_model.fit(X_train_u, Y_train_u)\n",
        "print(classification_report(Y_val_u, best_tree_model.predict(X_val_u)))"
      ],
      "execution_count": null,
      "outputs": [
        {
          "output_type": "stream",
          "text": [
            "              precision    recall  f1-score   support\n",
            "\n",
            "           0       0.90      0.90      0.90      7417\n",
            "           1       0.68      0.70      0.69      2352\n",
            "\n",
            "    accuracy                           0.85      9769\n",
            "   macro avg       0.79      0.80      0.79      9769\n",
            "weighted avg       0.85      0.85      0.85      9769\n",
            "\n"
          ],
          "name": "stdout"
        }
      ]
    },
    {
      "cell_type": "markdown",
      "metadata": {
        "id": "rVT_fpL-LtZj"
      },
      "source": [
        "I risultati ottenuti sono molto simili a quelli della regressione logistica, con punteggio di accuracy di poco più alto\n",
        "\n"
      ]
    },
    {
      "cell_type": "code",
      "metadata": {
        "colab": {
          "base_uri": "https://localhost:8080/",
          "height": 282
        },
        "id": "gXVFqOx_gb1l",
        "outputId": "1bcf4d47-2a61-465b-dc7b-e44480a690c1"
      },
      "source": [
        "from sklearn.metrics import confusion_matrix\n",
        "\n",
        "sns.heatmap(confusion_matrix(Y_val_u, best_tree_model.predict(X_val_u)), annot = True, fmt = \".0f\")"
      ],
      "execution_count": null,
      "outputs": [
        {
          "output_type": "execute_result",
          "data": {
            "text/plain": [
              "<matplotlib.axes._subplots.AxesSubplot at 0x7f0450acc790>"
            ]
          },
          "metadata": {
            "tags": []
          },
          "execution_count": 254
        },
        {
          "output_type": "display_data",
          "data": {
            "image/png": "[encoded data removed]",
            "text/plain": [
              "<Figure size 432x288 with 2 Axes>"
            ]
          },
          "metadata": {
            "tags": [],
            "needs_background": "light"
          }
        }
      ]
    },
    {
      "cell_type": "markdown",
      "metadata": {
        "id": "tvuNIowial30"
      },
      "source": [
        "E' interessante notare che man mano che l'accuracy di questi modelli aumenta i valori di precision/recall tendono a bilanciarsi"
      ]
    },
    {
      "cell_type": "code",
      "metadata": {
        "id": "y3zWm0jAbpZz"
      },
      "source": [
        "from sklearn.tree import export_text\n",
        "print(export_text(best_tree_model, feature_names=full_columns_name))"
      ],
      "execution_count": null,
      "outputs": []
    },
    {
      "cell_type": "markdown",
      "metadata": {
        "id": "jYMCLHVTTbMI"
      },
      "source": [
        "-----------------------------------------------------\n"
      ]
    },
    {
      "cell_type": "markdown",
      "metadata": {
        "id": "3ucZtICJ0mDF"
      },
      "source": [
        "#RANDOM FOREST"
      ]
    },
    {
      "cell_type": "code",
      "metadata": {
        "id": "c4QgiOF_0pOC"
      },
      "source": [
        "from sklearn.ensemble import RandomForestClassifier\n"
      ],
      "execution_count": null,
      "outputs": []
    },
    {
      "cell_type": "markdown",
      "metadata": {
        "id": "94fcpiDbDeWR"
      },
      "source": [
        "Per risparmiare tempo si riutilizzano alcuni iperparametri individuati per gli alberi decisionali"
      ]
    },
    {
      "cell_type": "code",
      "metadata": {
        "colab": {
          "base_uri": "https://localhost:8080/"
        },
        "id": "Q76gYdGl0vfj",
        "outputId": "fe5b421c-7bd3-4c48-e4fb-c68109e4d155"
      },
      "source": [
        "grid = {\n",
        "    \"n_estimators\" : [100, 200, 250],\n",
        "    \"max_features\": [5, 10, 15],\n",
        "    \"min_samples_split\" : [150],\n",
        "    \"max_depth\" : [20],\n",
        "    \"class_weight\": [{1 : 1.5}],\n",
        "\n",
        "}\n",
        "\n",
        "#forest_model = rand_search_cv(X_train_u, Y_train_u, X_val_u, Y_val_u, RandomForestClassifier(),  grid, 9 , scoring, refit = \"Accuracy\") "
      ],
      "execution_count": null,
      "outputs": [
        {
          "output_type": "stream",
          "text": [
            "Best params : {'n_estimators': 250, 'min_samples_split': 150, 'max_features': 10, 'max_depth': 20, 'class_weight': {1: 1.5}}\n",
            "Best training score : 0.8617494233135237\n",
            "\n",
            " TRAINING TIME \n",
            "\n",
            "mean_fit_time      3.406999\n",
            "std_fit_time       0.021981\n",
            "mean_score_time    0.132559\n",
            "std_score_time     0.002657\n",
            "dtype: float64\n",
            "\n",
            " VALIDATION SET RESULTS\n",
            "\n",
            "              precision    recall  f1-score   support\n",
            "\n",
            "           0       0.91      0.92      0.91      7417\n",
            "           1       0.73      0.70      0.71      2352\n",
            "\n",
            "    accuracy                           0.87      9769\n",
            "   macro avg       0.82      0.81      0.81      9769\n",
            "weighted avg       0.86      0.87      0.86      9769\n",
            "\n"
          ],
          "name": "stdout"
        }
      ]
    },
    {
      "cell_type": "code",
      "metadata": {
        "colab": {
          "base_uri": "https://localhost:8080/"
        },
        "id": "qmttI9Bp5ch6",
        "outputId": "bf2fff1c-dd1b-4f4b-f64f-8348153c6127"
      },
      "source": [
        "forest_model =  RandomForestClassifier(n_estimators = 250, min_samples_split=150, max_depth=20, max_features= 10, class_weight={1: 1.5})\n",
        "forest_model.fit(X_train_u, Y_train_u)\n",
        "print(classification_report(Y_val_u, forest_model.predict(X_val_u)))"
      ],
      "execution_count": null,
      "outputs": [
        {
          "output_type": "stream",
          "text": [
            "              precision    recall  f1-score   support\n",
            "\n",
            "           0       0.91      0.92      0.91      7417\n",
            "           1       0.73      0.71      0.72      2352\n",
            "\n",
            "    accuracy                           0.87      9769\n",
            "   macro avg       0.82      0.81      0.81      9769\n",
            "weighted avg       0.86      0.87      0.86      9769\n",
            "\n"
          ],
          "name": "stdout"
        }
      ]
    },
    {
      "cell_type": "markdown",
      "metadata": {
        "id": "BGJ7OvEpBkkh"
      },
      "source": [
        "Si è riusciti ad inviduare un modello che raggiunge un accuracy dell' 87% ed un f1-score del 72%"
      ]
    },
    {
      "cell_type": "code",
      "metadata": {
        "colab": {
          "base_uri": "https://localhost:8080/",
          "height": 282
        },
        "id": "AjwO57nG2Ob3",
        "outputId": "85b85913-bedc-4c93-ec6b-831719c0ae74"
      },
      "source": [
        "from sklearn.metrics import confusion_matrix\n",
        "\n",
        "sns.heatmap(confusion_matrix(Y_val_u, best_tree_model.predict(X_val_u)), annot = True, fmt = \".0f\")"
      ],
      "execution_count": null,
      "outputs": [
        {
          "output_type": "execute_result",
          "data": {
            "text/plain": [
              "<matplotlib.axes._subplots.AxesSubplot at 0x7f0450405cd0>"
            ]
          },
          "metadata": {
            "tags": []
          },
          "execution_count": 258
        },
        {
          "output_type": "display_data",
          "data": {
            "image/png": "[encoded data removed]",
            "text/plain": [
              "<Figure size 432x288 with 2 Axes>"
            ]
          },
          "metadata": {
            "tags": [],
            "needs_background": "light"
          }
        }
      ]
    },
    {
      "cell_type": "markdown",
      "metadata": {
        "id": "NJr5qIu9Cky4"
      },
      "source": [
        "Nonostante il risultato positivo è probabile vi siano degli iperparametri ancora migliori che possano migliorare il risultato ulteriormente. In questo caso la valutazione è stata svolta tramite un numero limitato di essi per non aumentare eccessivamente i tempi di computazione"
      ]
    },
    {
      "cell_type": "markdown",
      "metadata": {
        "id": "SceNsh_dX5Q5"
      },
      "source": [
        "#XGBOOST"
      ]
    },
    {
      "cell_type": "code",
      "metadata": {
        "id": "f9N2XKckrfWH"
      },
      "source": [
        "from xgboost import XGBClassifier\n",
        "\n",
        "\n",
        "grid = {\n",
        "    \"eta\" : [0.01, 0.1],\n",
        "    \"max_depth\" : [20],\n",
        "    \"n_estimators\" : [100, 200, 300],\n",
        "    \"min_child_weight\" : [0.5, 1, 1.5],\n",
        "    \"gamma\": [0.5, 1, 1.5, 2, 4]\n",
        "\n",
        "}\n",
        "\n",
        "#xgb_model = rand_search_cv(X_train_u, Y_train_u, X_val_u, Y_val_u, XGBClassifier(objective=\"binary:logistic\"),  grid, 30, scoring) "
      ],
      "execution_count": 86,
      "outputs": []
    },
    {
      "cell_type": "code",
      "metadata": {
        "colab": {
          "base_uri": "https://localhost:8080/"
        },
        "id": "TlLwnEb2HNdf",
        "outputId": "363c34c1-5cc0-4508-a4fb-b6fa524ad80b"
      },
      "source": [
        "xgb_model =  XGBClassifier(objective = \"binary:logistic\", n_estimators = 200, min_child_weight=1.5, max_depth=20, gamma = 4, eta = 0.01, class_weigth = {1: 1.5})\n",
        "xgb_model.fit(X_train_u, Y_train_u)\n",
        "print(classification_report(Y_val_u, xgb_model.predict(X_val_u)))"
      ],
      "execution_count": null,
      "outputs": [
        {
          "output_type": "stream",
          "text": [
            "              precision    recall  f1-score   support\n",
            "\n",
            "           0       0.90      0.94      0.92      7417\n",
            "           1       0.79      0.66      0.72      2352\n",
            "\n",
            "    accuracy                           0.88      9769\n",
            "   macro avg       0.84      0.80      0.82      9769\n",
            "weighted avg       0.87      0.88      0.87      9769\n",
            "\n"
          ],
          "name": "stdout"
        }
      ]
    },
    {
      "cell_type": "markdown",
      "metadata": {
        "id": "5NMGrUe5JpZe"
      },
      "source": [
        "I risultati in termini di accuracy sono di poco superiori a quelli della random forest (87% contro 88%), ed un f1_score al 72%. D'altra parte i valori di precision e recall sono più sbilanciati, con un maggiore accento sulla precision"
      ]
    },
    {
      "cell_type": "markdown",
      "metadata": {
        "id": "r7b-VtP7LnsY"
      },
      "source": [
        "A questo punto pare che xboost sia il modello con le performance tendenzialmente migliori. A questo punto sarebbe utile avere qualche informazione sul meccanismo decisionale del modello ma essendo un metodo ensable, ciò risulta difficile con metodi convenzionali.\n",
        "Un'idea è utilizzare SHAP, un framework per fornire meccanismi di interpretability anche su modelli non esplicitamente interpretabili"
      ]
    },
    {
      "cell_type": "code",
      "metadata": {
        "id": "yyhSiPiMMlWk"
      },
      "source": [
        "#!pip install shap"
      ],
      "execution_count": 91,
      "outputs": []
    },
    {
      "cell_type": "code",
      "metadata": {
        "id": "59dDClCJMXNU"
      },
      "source": [
        "import shap"
      ],
      "execution_count": 90,
      "outputs": []
    },
    {
      "cell_type": "code",
      "metadata": {
        "id": "Ql8UV_J-MxgH"
      },
      "source": [
        "interpreter = shap.TreeExplainer(xgb_model)\n",
        "shap_values = interpreter.shap_values(X_val_u)"
      ],
      "execution_count": 93,
      "outputs": []
    },
    {
      "cell_type": "code",
      "metadata": {
        "colab": {
          "base_uri": "https://localhost:8080/"
        },
        "id": "y-SvwyyjOCLB",
        "outputId": "646ecfd9-3180-402e-b4ac-66ea71cd6e1f"
      },
      "source": [
        "shap_values.shape"
      ],
      "execution_count": 95,
      "outputs": [
        {
          "output_type": "execute_result",
          "data": {
            "text/plain": [
              "(9769, 49)"
            ]
          },
          "metadata": {
            "tags": []
          },
          "execution_count": 95
        }
      ]
    },
    {
      "cell_type": "code",
      "metadata": {
        "colab": {
          "base_uri": "https://localhost:8080/",
          "height": 585
        },
        "id": "r_cbBcXZNFbg",
        "outputId": "f1f618b7-4a52-4826-9590-a39a62e89c1d"
      },
      "source": [
        "shap.summary_plot(shap_values, X_val_u, feature_names=full_columns_name)"
      ],
      "execution_count": 107,
      "outputs": [
        {
          "output_type": "display_data",
          "data": {
            "image/png": "[encoded data removed]",
            "text/plain": [
              "<Figure size 576x684 with 2 Axes>"
            ]
          },
          "metadata": {
            "tags": [],
            "needs_background": "light"
          }
        }
      ]
    },
    {
      "cell_type": "markdown",
      "metadata": {
        "id": "mhrlWwBlO4ca"
      },
      "source": [
        "Nella rappresentazione ottenuta l'asse SHAP value misura il grado di importanza positiva(verso destra) o negativa(verso sinistra) delle feature; mentre il colore rappresenta la tendenza verso low income(rosso) o high income (blue).\n",
        "\n",
        "In questo caso non tutto è facilmente interpretabile, ma alcune caratteristiche del modello si possono individuare:\n",
        "\n",
        "\n",
        "\n"
      ]
    },
    {
      "cell_type": "code",
      "metadata": {
        "colab": {
          "base_uri": "https://localhost:8080/",
          "height": 429
        },
        "id": "MXo18pIPPdmR",
        "outputId": "93652f53-8d02-4d5e-8629-a8f5dca76f57"
      },
      "source": [
        "fig, axes = plt.subplots(2, 2, figsize = (14,6))\n",
        "\n",
        "shap.dependence_plot(\"age\", shap_values, X_val_u, feature_names=full_columns_name, ax=axes[0,0], show = False)\n",
        "shap.dependence_plot(\"education.num\", shap_values, X_val_u, feature_names=full_columns_name, ax=axes[0,1], show = False)\n",
        "shap.dependence_plot(\"capital.gain\", shap_values, X_val_u, feature_names=full_columns_name, ax=axes[1,0], show = False)\n",
        "shap.dependence_plot(\"hours.per.week\", shap_values, X_val_u, feature_names=full_columns_name, ax=axes[1,1], show = False)\n",
        "\n",
        "plt.show()"
      ],
      "execution_count": 129,
      "outputs": [
        {
          "output_type": "display_data",
          "data": {
            "image/png": "[encoded data removed]",
            "text/plain": [
              "<Figure size 1008x432 with 8 Axes>"
            ]
          },
          "metadata": {
            "tags": [],
            "needs_background": "light"
          }
        }
      ]
    },
    {
      "cell_type": "markdown",
      "metadata": {
        "id": "nlJsNPtdS5px"
      },
      "source": [
        "\n",
        "\n",
        "*   Per quanto riguarda l'età intorno ai 20 anni la maggior parte degli individui hanno bassi income, mentre da li' in poi l'indicazione di età non fornisce risultati più precisi(si può notare che da 20 anni in poi vi sono quantità simili di high e low income); in ogni caso i valori di low income rimangono sempre preponderanti in quanto assumano maggior valore SHAP\n",
        "*   Per quanto riguarda il grado di educazione, sembra che dal livello di higher education in poi l'importanza della feature aumenta leggermente(maggior SHAP value) orientandosi verso gli high income\n",
        "*  La feature capital gain (avendo valori sbilanciati) tende ad avere altissimo peso nella predizione (shap value a 6, molto maggiore degli altri)\n",
        "*  non vi è una relazione diretta tra numero di ore di lavoro ed income, ma si può notare come intorno alle 40 ore lavorative vi sia una preponderanza di high income (maggior shap value). Sotto le 40 ore risulta invece il contrario\n",
        "\n"
      ]
    },
    {
      "cell_type": "markdown",
      "metadata": {
        "id": "CDTjluC0tkRG"
      },
      "source": [
        "#PCA"
      ]
    },
    {
      "cell_type": "markdown",
      "metadata": {
        "id": "3dVv9dM6ttoX"
      },
      "source": [
        "Lo scopo di questa sezione è quella di prendere in considerazione i modelli ottenuti in ogni sezione e valutare se sia possibile mantenerne la validità anche in seguito a tecniche di riduzione della dimensionalità sui dati(in questo caso PCA).\n",
        "Lo scopo in questo caso è individuare un numero minore di feature per i dati, verificando se ciò abbia inpatto o meno sulle performance"
      ]
    },
    {
      "cell_type": "markdown",
      "metadata": {
        "id": "fCotflTeuxAV"
      },
      "source": [
        "In questo caso si utilizza una PCA standard, per evitare eccessive perdite di dati si punta a mantenere lungo i nuovi assi(pca) dello spazio almeno il 90% della varianza originaria dei dati"
      ]
    },
    {
      "cell_type": "code",
      "metadata": {
        "id": "awUKwSb_u12s",
        "colab": {
          "base_uri": "https://localhost:8080/"
        },
        "outputId": "a1bb5313-903f-4c69-d9f8-01010424e24c"
      },
      "source": [
        "from sklearn import decomposition\n",
        "pca = decomposition.PCA(n_components=0.90)\n",
        "pca.fit(X,Y)"
      ],
      "execution_count": null,
      "outputs": [
        {
          "output_type": "execute_result",
          "data": {
            "text/plain": [
              "PCA(copy=True, iterated_power='auto', n_components=0.9, random_state=None,\n",
              "    svd_solver='auto', tol=0.0, whiten=False)"
            ]
          },
          "metadata": {
            "tags": []
          },
          "execution_count": 536
        }
      ]
    },
    {
      "cell_type": "code",
      "metadata": {
        "id": "p7egHVDi33VV",
        "colab": {
          "base_uri": "https://localhost:8080/"
        },
        "outputId": "4ea65294-217a-4050-cd18-5991272920b1"
      },
      "source": [
        "pca.explained_variance_ratio_"
      ],
      "execution_count": null,
      "outputs": [
        {
          "output_type": "execute_result",
          "data": {
            "text/plain": [
              "array([0.15376608, 0.11458194, 0.10222691, 0.09840964, 0.08856464,\n",
              "       0.08434948, 0.07009348, 0.05839597, 0.02896745, 0.02173606,\n",
              "       0.01836155, 0.01620039, 0.01442786, 0.01263971, 0.0115802 ,\n",
              "       0.01125769])"
            ]
          },
          "metadata": {
            "tags": []
          },
          "execution_count": 537
        }
      ]
    },
    {
      "cell_type": "code",
      "metadata": {
        "id": "8UuVoBmB34cB",
        "colab": {
          "base_uri": "https://localhost:8080/"
        },
        "outputId": "09ce875b-7acb-4d1d-ea69-1fb2ddad50d4"
      },
      "source": [
        "np.cumsum(pca.explained_variance_ratio_)"
      ],
      "execution_count": null,
      "outputs": [
        {
          "output_type": "execute_result",
          "data": {
            "text/plain": [
              "array([0.15376608, 0.26834802, 0.37057493, 0.46898457, 0.5575492 ,\n",
              "       0.64189868, 0.71199216, 0.77038813, 0.79935558, 0.82109164,\n",
              "       0.83945319, 0.85565358, 0.87008144, 0.88272115, 0.89430135,\n",
              "       0.90555904])"
            ]
          },
          "metadata": {
            "tags": []
          },
          "execution_count": 538
        }
      ]
    },
    {
      "cell_type": "code",
      "metadata": {
        "id": "A4CLBoNl4BEl",
        "colab": {
          "base_uri": "https://localhost:8080/",
          "height": 265
        },
        "outputId": "bec594bf-666f-47fa-d016-cf39e250a54f"
      },
      "source": [
        "plt.plot(np.arange(1,len(pca.explained_variance_ratio_) + 1), np.cumsum(pca.explained_variance_ratio_));"
      ],
      "execution_count": null,
      "outputs": [
        {
          "output_type": "display_data",
          "data": {
            "image/png": "[encoded data removed]",
            "text/plain": [
              "<Figure size 432x288 with 1 Axes>"
            ]
          },
          "metadata": {
            "tags": [],
            "needs_background": "light"
          }
        }
      ]
    },
    {
      "cell_type": "markdown",
      "metadata": {
        "id": "cVdzVpJrWN4L"
      },
      "source": [
        "Pare che il 90% circa della varianza dei dati originari sia descritta da 16 pca. In questo caso il numero di feature può essere ridotto da 49 a 16"
      ]
    },
    {
      "cell_type": "code",
      "metadata": {
        "id": "-nI60vEnWgtA"
      },
      "source": [
        "\n",
        "pca_dt = Pipeline([\n",
        "    (\"pca\", decomposition.PCA(n_components=0.90)),\n",
        "    (\"dt\", DecisionTreeClassifier(min_samples_split=150, max_depth=20, criterion=\"gini\", class_weight={1: 1.5}))\n",
        "])\n",
        "\n",
        "pca_rf = Pipeline([\n",
        "    (\"pca\", decomposition.PCA(n_components=0.90)),\n",
        "    (\"rf\", RandomForestClassifier(n_estimators = 250, min_samples_split=150, max_depth=20, class_weight={1: 1.5}))\n",
        "])\n",
        "\n",
        "pca_xg = Pipeline([\n",
        "    (\"pca\", decomposition.PCA(n_components=0.90)),\n",
        "    (\"xg\", XGBClassifier(objective = \"binary:logistic\", n_estimators = 200, min_child_weight=1.5, max_depth=20, gamma = 4, eta = 0.01, class_weigth = {1: 1.5}))\n",
        "])\n",
        "\n",
        "pca_lr = Pipeline([\n",
        "    (\"pca\", decomposition.PCA(n_components=0.90)),\n",
        "    (\"log\", LogisticRegression(solver=\"saga\", penalty = 'elasticnet', l1_ratio = 0.2, class_weight =  {1: 2}, C =  1))\n",
        "])"
      ],
      "execution_count": null,
      "outputs": []
    },
    {
      "cell_type": "code",
      "metadata": {
        "id": "fBwGsTejZQ8T"
      },
      "source": [
        "pca_rf.fit(X_train, Y_train);\n",
        "pca_dt.fit(X_train, Y_train);\n",
        "pca_xg.fit(X_train, Y_train);\n",
        "pca_lr.fit(X_train, Y_train);"
      ],
      "execution_count": null,
      "outputs": []
    },
    {
      "cell_type": "code",
      "metadata": {
        "colab": {
          "base_uri": "https://localhost:8080/"
        },
        "id": "NuKr29OYdXgB",
        "outputId": "7cd7e1a4-bb24-4bf0-e2d2-ffb8fef9f3b4"
      },
      "source": [
        "print(f\"Logistic Regression PCA :\\n {classification_report(Y_val, pca_lr.predict(X_val))}\\n\")\n",
        "print(f\"Decision Tree PCA :\\n  {classification_report(Y_val, pca_dt.predict(X_val))}\\n\")\n",
        "print(f\"Random Forest :\\n {classification_report(Y_val, pca_rf.predict(X_val))}\\n\")\n",
        "print(f\"XGBOOST :\\n {classification_report(Y_val, pca_xg.predict(X_val))}\\n\")"
      ],
      "execution_count": null,
      "outputs": [
        {
          "output_type": "stream",
          "text": [
            "Logistic Regression PCA :\n",
            "               precision    recall  f1-score   support\n",
            "\n",
            "           0       0.91      0.86      0.88      7417\n",
            "           1       0.62      0.73      0.67      2352\n",
            "\n",
            "    accuracy                           0.83      9769\n",
            "   macro avg       0.76      0.79      0.78      9769\n",
            "weighted avg       0.84      0.83      0.83      9769\n",
            "\n",
            "\n",
            "Decision Tree PCA :\n",
            "                precision    recall  f1-score   support\n",
            "\n",
            "           0       0.89      0.87      0.88      7417\n",
            "           1       0.63      0.66      0.64      2352\n",
            "\n",
            "    accuracy                           0.82      9769\n",
            "   macro avg       0.76      0.77      0.76      9769\n",
            "weighted avg       0.83      0.82      0.83      9769\n",
            "\n",
            "\n",
            "Random Forest :\n",
            "               precision    recall  f1-score   support\n",
            "\n",
            "           0       0.90      0.89      0.90      7417\n",
            "           1       0.67      0.68      0.67      2352\n",
            "\n",
            "    accuracy                           0.84      9769\n",
            "   macro avg       0.78      0.79      0.78      9769\n",
            "weighted avg       0.84      0.84      0.84      9769\n",
            "\n",
            "\n",
            "XGBOOST :\n",
            "               precision    recall  f1-score   support\n",
            "\n",
            "           0       0.88      0.92      0.90      7417\n",
            "           1       0.71      0.60      0.65      2352\n",
            "\n",
            "    accuracy                           0.84      9769\n",
            "   macro avg       0.79      0.76      0.77      9769\n",
            "weighted avg       0.84      0.84      0.84      9769\n",
            "\n",
            "\n"
          ],
          "name": "stdout"
        }
      ]
    },
    {
      "cell_type": "markdown",
      "metadata": {
        "id": "UiD2jZYomi3-"
      },
      "source": [
        "I risultati sono tendenzialmente peggiori, ma la regressione logistica in particolare, risulta abbastanza vicina al suo valore di score originario"
      ]
    },
    {
      "cell_type": "markdown",
      "metadata": {
        "id": "7BUHi2kbX-ND"
      },
      "source": [
        "#EVALUTATION MODELS"
      ]
    },
    {
      "cell_type": "code",
      "metadata": {
        "id": "eJZoeon7n_wr"
      },
      "source": [
        "final_estimation = pd.DataFrame({\n",
        "    (\"no_PCA\", \"Accuracy\") : [0.84, 0.85, 0.87, 0.88],\n",
        "    (\"no_PCA\", \"F1\") : [0.69, 0.69, 0.71, 0.72],\n",
        "    (\"PCA\", \"Accuracy\") : [0.83, 0.82, 0.84, 0.84],\n",
        "    (\"PCA\", \"F1\") : [0.67, 0.64, 0.67, 0.65]\n",
        "    \n",
        "}, index = [\"log_reg\", \"dec_tree\", \"random_forest\", \"xgboost\"])"
      ],
      "execution_count": null,
      "outputs": []
    },
    {
      "cell_type": "code",
      "metadata": {
        "colab": {
          "base_uri": "https://localhost:8080/",
          "height": 203
        },
        "id": "SwMt4wuDq-ky",
        "outputId": "0d1f76b3-eb28-4050-85fb-121490451291"
      },
      "source": [
        "final_estimation.head()"
      ],
      "execution_count": null,
      "outputs": [
        {
          "output_type": "execute_result",
          "data": {
            "text/html": [
              "<div>\n",
              "<style scoped>\n",
              "    .dataframe tbody tr th:only-of-type {\n",
              "        vertical-align: middle;\n",
              "    }\n",
              "\n",
              "    .dataframe tbody tr th {\n",
              "        vertical-align: top;\n",
              "    }\n",
              "\n",
              "    .dataframe thead tr th {\n",
              "        text-align: left;\n",
              "    }\n",
              "</style>\n",
              "<table border=\"1\" class=\"dataframe\">\n",
              "  <thead>\n",
              "    <tr>\n",
              "      <th></th>\n",
              "      <th colspan=\"2\" halign=\"left\">no_PCA</th>\n",
              "      <th colspan=\"2\" halign=\"left\">PCA</th>\n",
              "    </tr>\n",
              "    <tr>\n",
              "      <th></th>\n",
              "      <th>Accuracy</th>\n",
              "      <th>F1</th>\n",
              "      <th>Accuracy</th>\n",
              "      <th>F1</th>\n",
              "    </tr>\n",
              "  </thead>\n",
              "  <tbody>\n",
              "    <tr>\n",
              "      <th>log_reg</th>\n",
              "      <td>0.84</td>\n",
              "      <td>0.69</td>\n",
              "      <td>0.83</td>\n",
              "      <td>0.67</td>\n",
              "    </tr>\n",
              "    <tr>\n",
              "      <th>dec_tree</th>\n",
              "      <td>0.85</td>\n",
              "      <td>0.69</td>\n",
              "      <td>0.82</td>\n",
              "      <td>0.64</td>\n",
              "    </tr>\n",
              "    <tr>\n",
              "      <th>random_forest</th>\n",
              "      <td>0.87</td>\n",
              "      <td>0.71</td>\n",
              "      <td>0.84</td>\n",
              "      <td>0.67</td>\n",
              "    </tr>\n",
              "    <tr>\n",
              "      <th>xgboost</th>\n",
              "      <td>0.88</td>\n",
              "      <td>0.72</td>\n",
              "      <td>0.84</td>\n",
              "      <td>0.65</td>\n",
              "    </tr>\n",
              "  </tbody>\n",
              "</table>\n",
              "</div>"
            ],
            "text/plain": [
              "                no_PCA            PCA      \n",
              "              Accuracy    F1 Accuracy    F1\n",
              "log_reg           0.84  0.69     0.83  0.67\n",
              "dec_tree          0.85  0.69     0.82  0.64\n",
              "random_forest     0.87  0.71     0.84  0.67\n",
              "xgboost           0.88  0.72     0.84  0.65"
            ]
          },
          "metadata": {
            "tags": []
          },
          "execution_count": 6
        }
      ]
    },
    {
      "cell_type": "markdown",
      "metadata": {
        "id": "AFQt9eaxrgBm"
      },
      "source": [
        "Al momento il modello migliore risulta essere l'xgboost standard. Si calcola ora l'intervallo di confidenza di questi modelli per provare a definire come le accuratezze potrebbero comportarsi sui dati reali"
      ]
    },
    {
      "cell_type": "code",
      "metadata": {
        "id": "WFyAhNwoazdL"
      },
      "source": [
        "def get_interval_score(accuracy, N, confidence = 0.95):\n",
        "\n",
        "  significance_level = 1 - confidence\n",
        "\n",
        "  critical_value = norm.ppf(significance_level / 2)\n",
        "\n",
        "  a = 2 * N * accuracy + (critical_value)**2 \n",
        "\n",
        "  b = critical_value * np.sqrt((critical_value)**2 + 4 * N * accuracy - 4 * N * (accuracy)**2)\n",
        "\n",
        "  c = 2 * (N + (critical_value)**2)\n",
        "\n",
        "  return (a + b) / c, (a - b) / c"
      ],
      "execution_count": null,
      "outputs": []
    },
    {
      "cell_type": "code",
      "metadata": {
        "id": "o8xC_vdcr6qj"
      },
      "source": [
        "for name, acc in final_estimation[\"no_PCA\", \"Accuracy\"].items():\n",
        "  print(f\"{name} :  {get_interval_score(acc, X_val.shape[0])}\\n\")"
      ],
      "execution_count": null,
      "outputs": []
    },
    {
      "cell_type": "markdown",
      "metadata": {
        "id": "yW09sa7QtJeu"
      },
      "source": [
        "La quantità di dati con cui sono stati testati i modelli è sufficiente per poter affermare la loro accuratezza in un intervallo molto ristretto (la quantità di dati era comunque molto elevata).\n",
        "A questo punto si può affermare che, se i dati futuri seguono la stessa distribuzione di questi allora si può affermare con una confidenza del 95% che la loro accuratezza cadrà in questi intervalli"
      ]
    },
    {
      "cell_type": "markdown",
      "metadata": {
        "id": "SZcI7r0muhPi"
      },
      "source": [
        "A questo punto prima di scegliere il modello xgboost come migliore lo si vuole comparare col secondo modello migliore in termini di performance, (la random forest) per capire se la loro differenza possa essere frutto del caso o meno. Ciò risulta utile anche perchè i loro punteggi sono abbastanza vicini tra loro"
      ]
    },
    {
      "cell_type": "code",
      "metadata": {
        "id": "n9YGFZjTdUlA"
      },
      "source": [
        "def compare_models(acc1, acc2, N1, N2, confidence = 0.95):\n",
        "    d = np.abs(acc1 - acc2)\n",
        "\n",
        "    d_variance = (acc1 * (1 - acc1) / N1) + (acc2 * (1 - acc2) / N2)\n",
        "\n",
        "    dev = norm.ppf((1 - confidence) / 2) * np.sqrt(d_variance)\n",
        "\n",
        "    return d - dev, d + dev\n"
      ],
      "execution_count": null,
      "outputs": []
    },
    {
      "cell_type": "code",
      "metadata": {
        "id": "ssDKsOkTdFJC"
      },
      "source": [
        "accuracies =final_estimation[\"no_PCA\", \"Accuracy\"]\n",
        "\n",
        "compare_models(accuracies[\"random_forest\"], accuracies[\"xgboost\"], X_val.shape[0], X_val.shape[0])"
      ],
      "execution_count": null,
      "outputs": []
    },
    {
      "cell_type": "markdown",
      "metadata": {
        "id": "WklzS056vZ9F"
      },
      "source": [
        "Risulta che la differenza tra i 2 modelli è statisticamente significativa anche se ciò risulta per poco. Si prova ora ad alzare la confidenza sopra al 95% fino per capire fino a quale valore può garantire la diversità statistica"
      ]
    },
    {
      "cell_type": "code",
      "metadata": {
        "colab": {
          "base_uri": "https://localhost:8080/"
        },
        "id": "j6VfRhZBv4vU",
        "outputId": "9b49f5ff-3c6e-4d9a-c08c-da058be14586"
      },
      "source": [
        "for x in np.arange(0.95, 1, 0.01):\n",
        "  comp = compare_models(accuracies[\"random_forest\"], accuracies[\"xgboost\"], X_val.shape[0], X_val.shape[0], confidence=x)\n",
        "  print(f\"{x} : {np.sign(comp[0]) == np.sign(comp[1])}\")"
      ],
      "execution_count": null,
      "outputs": [
        {
          "output_type": "stream",
          "text": [
            "0.95 : True\n",
            "0.96 : True\n",
            "0.97 : False\n",
            "0.98 : False\n",
            "0.99 : False\n",
            "1.0 : False\n"
          ],
          "name": "stdout"
        }
      ]
    },
    {
      "cell_type": "markdown",
      "metadata": {
        "id": "O36fssSko9rR"
      },
      "source": [
        "Pertanto si è in grado di affermare che i 2 modelli sono statisticamente diversi fino ad una confidenza del 96%"
      ]
    },
    {
      "cell_type": "markdown",
      "metadata": {
        "id": "LqTJh1iXycxW"
      },
      "source": [
        "Si può quindi affermare che il modello migliore è quello ottenuto con xgboost ottenendo un'accuracy dell'88% e un f1_score del 72%"
      ]
    },
    {
      "cell_type": "markdown",
      "metadata": {
        "id": "EjZoiKcMvZGc"
      },
      "source": [
        "#CONSIDERAZIONI FINALI E POSSIBILI MIGLIORAMENTI"
      ]
    },
    {
      "cell_type": "markdown",
      "metadata": {
        "id": "34wDgYxrzafe"
      },
      "source": [
        "CONTESTUALIZZAZIONE DEL RISULTATO\n",
        "\n",
        "Si è ottenuto infine un'accuratezza dell' 88% acc e 72% f1 sul modello migliore.\n",
        "Per quanto riguarda i risultati più facilmente usufruibili relativi a questo dataset si hanno a disposizione i kernel pubblicati su kaggle dagli altri utenti https://www.kaggle.com/uciml/adult-census-income/code.\n",
        "Il confronto con essi risulta difficile per diversi motivi: \n",
        "* Il problema è che un numero considerevole di questi kernel hanno analizzato la qualità del proprio modello solo in funzione della metrica di accuracy, ignorando spesso f1, recall e precision.\n",
        "* In altri kernel seppur l'f1_score veniva considerato, questo era valutato in base all'f1_score della classe più popolosa raggiungendo quindi valori molto alti(ma che invece risultavano bassi per quella meno popolosa). \n",
        "* In altri casi ancora, sembra che si siano ottenuti score f1 molto alti sulla classe meno popolosa(intorno all'84%) con undersampling, ma il problema è che l'intero dataset(sia train che validation set) è stato trasformato in undersampling portando a stime sovra ottimistiche(si è sperimentato ciò per verificare ed effettivamente si riusciva facilmente ad ottenere alti valori di f1).\n",
        "\n",
        "Ovviamente non potendo valutare ogni kernel è possibile si siano ottenuti \n",
        "esiti anche più positivi, ma considerando sommativamente i risultati ottenuti, si ritiene che questi siano particolarmente positivi"
      ]
    },
    {
      "cell_type": "markdown",
      "metadata": {
        "id": "0MtVb3LcvgRO"
      },
      "source": [
        "POSSIBILI MIGLIORAMENTI E ASSUNZIONI DI SEMPLIFICAZIONE\n",
        "\n",
        "\n",
        "*   Nell'individuare gli iperparametri migliori è stata utilizzata una random search parametrizzata con uno StratifiedFold. Il motivo di ciò era evitare di raggiungere lunghi tempi di elaborazione e quindi rendere più difficoltoso svolgere test su modelli più complessi (per lo stesso motivo non si è utilizzata una nested cross validation). Un'alternativa per migliorare i tempi di elaborazione sarebbe potuta essere utilizzare un ottimizzatore bayesiano al posto della random search.\n",
        "*   Per semplicità, i modelli con PCA sono stati addestrati con gli stessi iperparametri individuati con i dati non ridotti. Ciò ovviamente non garantisce che risultino gli iperparametri migliori anche per questi.\n",
        "*   Seppur sia stata analizzata la correlazione lineare tra le feature, è probabile che tra le feature vi fossero dei collider (feature con multicolinearità con il target), in questo caso è probabile che la regolarizzazione abbia migliorato il problema ma poteva risultare utile unire queste feature per ottenere un insieme di feature più compatto (magari utilizzato il variance inflation factor (VIF)).\n",
        "* Nella sezione di EDA si sono analizzate le distribuzioni di alcune feature, queste in molti casi presentavano degli outlier( un esempio sono capital gain/loss che possiedono un numero molto piccolo di valori diversi da 0 sul totale). Eliminandoli è probabile che i risulti possano migliorare.\n",
        "\n",
        "\n",
        "\n",
        "\n"
      ]
    }
  ]
}